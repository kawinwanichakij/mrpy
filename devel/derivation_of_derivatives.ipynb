{
 "cells": [
  {
   "cell_type": "markdown",
   "metadata": {},
   "source": [
    "# Specification of Jacobians/Hessians"
   ]
  },
  {
   "cell_type": "markdown",
   "metadata": {},
   "source": [
    "This notebook is for the development of the analytic Jacobians and Hessians which will go into the main code. We do this anlytically via SymPy."
   ]
  },
  {
   "cell_type": "code",
   "execution_count": 128,
   "metadata": {
    "collapsed": false
   },
   "outputs": [],
   "source": [
    "from sympy import *\n",
    "init_printing(use_latex=\"mathjax\")\n",
    "from sympy import mpmath\n",
    "from scipy.integrate import simps"
   ]
  },
  {
   "cell_type": "code",
   "execution_count": 7,
   "metadata": {
    "collapsed": true
   },
   "outputs": [],
   "source": [
    "from IPython.display import display"
   ]
  },
  {
   "cell_type": "code",
   "execution_count": 237,
   "metadata": {
    "collapsed": false
   },
   "outputs": [],
   "source": [
    "x,y,b, H = symbols(r'x,y,\\beta,\\mathcal{H}_\\star',positive=True)\n",
    "h, z,a,lnA,m = symbols(r'h,z,\\alpha,\\ln{}A,m')\n",
    "xx,yy,zz,HH,qq,gg = symbols(r'x,y,z,\\mathcal{H}_\\star,q,g')\n",
    "\n",
    "hd,ad,bd,lnAd = symbols(r\"h',\\alpha',\\beta', \\ln{}A'\")\n",
    "mmin = symbols(r\"m_{\\rm min}\")"
   ]
  },
  {
   "cell_type": "markdown",
   "metadata": {},
   "source": [
    "## MRP functions"
   ]
  },
  {
   "cell_type": "code",
   "execution_count": 58,
   "metadata": {
    "collapsed": false
   },
   "outputs": [],
   "source": [
    "H = 10**h\n",
    "y = 10**m/H\n",
    "x = y**b\n",
    "z = (a+1)/b\n",
    "g = exp(lnA)*b*y**a * exp(-x)\n",
    "q = exp(lnA)*10**h * uppergamma(z,x)\n",
    "k = H**2 * gamma(z+1/b)"
   ]
  },
  {
   "cell_type": "code",
   "execution_count": 59,
   "metadata": {
    "collapsed": true
   },
   "outputs": [],
   "source": [
    "Hd = 10**hd\n",
    "yd = 10**m/Hd\n",
    "xd = yd**bd\n",
    "zd = (ad+1)/bd\n",
    "gd = exp(lnAd)*bd*yd**ad * exp(-xd)\n",
    "qd = exp(lnAd)*Hd * uppergamma(zd,xd)"
   ]
  },
  {
   "cell_type": "code",
   "execution_count": 60,
   "metadata": {
    "collapsed": false
   },
   "outputs": [
    {
     "data": {
      "text/latex": [
       "$$\\beta y^{\\alpha} e^{\\ln{}A} e^{- x}$$"
      ],
      "text/plain": [
       "       \\alpha  \\ln{}A  -x\n",
       "\\beta⋅y      ⋅ℯ      ⋅ℯ  "
      ]
     },
     "execution_count": 60,
     "metadata": {},
     "output_type": "execute_result"
    }
   ],
   "source": [
    "g.subs([(x,xx),(y,yy)])"
   ]
  },
  {
   "cell_type": "code",
   "execution_count": 61,
   "metadata": {
    "collapsed": false
   },
   "outputs": [
    {
     "data": {
      "text/latex": [
       "$$\\mathcal{H}_\\star e^{\\ln{}A} \\Gamma\\left(z, x\\right)$$"
      ],
      "text/plain": [
       "                   \\ln{}A        \n",
       "\\mathcal{H}_\\star⋅ℯ      ⋅Γ(z, x)"
      ]
     },
     "execution_count": 61,
     "metadata": {},
     "output_type": "execute_result"
    }
   ],
   "source": [
    "q.subs([(x,xx),(y,yy),(z,zz),(H,HH)])"
   ]
  },
  {
   "cell_type": "markdown",
   "metadata": {},
   "source": [
    "## First Derivatives of lng, lnk and q"
   ]
  },
  {
   "cell_type": "code",
   "execution_count": 127,
   "metadata": {
    "collapsed": true
   },
   "outputs": [],
   "source": [
    "def diff_1(exp,var):\n",
    "    out = simplify(diff(exp,var)).subs([(q,qq),(g,gg)])\n",
    "    \n",
    "    more = 0\n",
    "    while more != out:\n",
    "        out = more or out\n",
    "        more = simplify(out).subs([(q,qq),(g,gg)])\n",
    "        \n",
    "    out = more.subs([(x,xx),(y,yy),(z,zz),(H,HH)])\n",
    "    \n",
    "    more = 0\n",
    "    while more != out:\n",
    "        out = more or out\n",
    "        more = simplify(out).subs([(x,xx),(y,yy),(z,zz),(H,HH)])\n",
    "        \n",
    "    return more"
   ]
  },
  {
   "cell_type": "code",
   "execution_count": 83,
   "metadata": {
    "collapsed": false
   },
   "outputs": [
    {
     "data": {
      "text/latex": [
       "$$1$$"
      ],
      "text/plain": [
       "1"
      ]
     },
     "metadata": {},
     "output_type": "display_data"
    },
    {
     "data": {
      "text/latex": [
       "$$\\left(- \\alpha + \\beta x\\right) \\log{\\left (10 \\right )}$$"
      ],
      "text/plain": [
       "(-\\alpha + \\beta⋅x)⋅log(10)"
      ]
     },
     "metadata": {},
     "output_type": "display_data"
    },
    {
     "data": {
      "text/latex": [
       "$$\\log{\\left (y \\right )}$$"
      ],
      "text/plain": [
       "log(y)"
      ]
     },
     "metadata": {},
     "output_type": "display_data"
    },
    {
     "data": {
      "text/latex": [
       "$$- x \\log{\\left (y \\right )} + \\frac{1}{\\beta}$$"
      ],
      "text/plain": [
       "              1  \n",
       "-x⋅log(y) + ─────\n",
       "            \\beta"
      ]
     },
     "metadata": {},
     "output_type": "display_data"
    }
   ],
   "source": [
    "glna = diff_1(log(g),lnA)\n",
    "gh = diff_1(log(g),h)\n",
    "ga = diff_1(log(g),a)\n",
    "gb = diff_1(log(g),b)\n",
    "display(glna,gh,ga,gb)"
   ]
  },
  {
   "cell_type": "markdown",
   "metadata": {},
   "source": [
    "## Analytic Likelihood"
   ]
  },
  {
   "cell_type": "code",
   "execution_count": 62,
   "metadata": {
    "collapsed": false
   },
   "outputs": [],
   "source": [
    "u = (Hd/H)**b * (Hd *uppergamma(zd+b/bd,xd) - xd**(b/bd)*qd)\n",
    "t = a * (Hd/bd)*gamma(zd) * (xd**zd * gamma(zd) * hyper((zd,zd),(zd+1,zd+1),-xd) + polygamma(0,zd) - log(xd))"
   ]
  },
  {
   "cell_type": "code",
   "execution_count": 63,
   "metadata": {
    "collapsed": true
   },
   "outputs": [],
   "source": [
    "lnl_standard = qd * log(g/q) + t - u"
   ]
  },
  {
   "cell_type": "code",
   "execution_count": 129,
   "metadata": {
    "collapsed": false
   },
   "outputs": [],
   "source": [
    "from mrpy import special\n",
    "lnl_integ = lambdify((m,hd,ad,bd,lnAd,h,a,b,lnA),gd*log(g/q),[\"numpy\",{\"uppergamma\":special.gammainc}])"
   ]
  },
  {
   "cell_type": "code",
   "execution_count": 149,
   "metadata": {
    "collapsed": false
   },
   "outputs": [],
   "source": [
    "def numerical_integral(func,args):\n",
    "    ld = lambdify(tuple([a[0] for a in args]),func,[\"numpy\",{\"uppergamma\":special.gammainc,\"gamma\":special.gamma}])\n",
    "    \n",
    "    vec = np.linspace(args[0][1],18.0,1000)\n",
    "    return simps(10**vec * np.log(10)*ld(vec,*[a[1] for a in args[1:]]),vec)\n",
    "\n",
    "def compare_num_int(integ_func,func,args):\n",
    "    num = numerical_integral(integ_func,args)\n",
    "    \n",
    "    anl = func.evalf(subs=dict(args))\n",
    "    return num,anl\n",
    "\n",
    "# def lnl_num(mmin,hd,ad,bd,lnAd,h=None,a=None,b=None,lnA=None):\n",
    "#     if h is None:\n",
    "#         h=hd\n",
    "#     if a is None:\n",
    "#         a = ad\n",
    "#     if b is None:\n",
    "#         b = bd\n",
    "#     if lnA is None:\n",
    "#         lnA = lnAd\n",
    "        \n",
    "#     m = np.linspace(mmin,18,1000)\n",
    "#     return simps(10**m * lnl_integ(m,hd,ad,bd,lnAd,h,a,b,lnA),m)\n",
    "\n",
    "# def comp_lnl_num_anl(mmin,hd_,ad_,bd_,lnAd_,h_=None,a_=None,b_=None,lnA_=None):\n",
    "#     if h_ is None:\n",
    "#         h_=hd_\n",
    "#     if a_ is None:\n",
    "#         a_ = ad_\n",
    "#     if b_ is None:\n",
    "#         b_ = bd_\n",
    "#     if lnA_ is None:\n",
    "#         lnA_ = lnAd_\n",
    "        \n",
    "#     num = lnl_num(mmin,hd_,ad_,bd_,lnAd_,h_,a_,b_,lnA_)\n",
    "#     anl = lnl_standard.evalf(subs={hd:hd_,ad:ad_,bd:bd_,lnAd:lnAd_,h:h_,a:a_,b:b_,lnA:lnA_,m:mmin})\n",
    "    \n",
    "#     return num,anl"
   ]
  },
  {
   "cell_type": "code",
   "execution_count": 155,
   "metadata": {
    "collapsed": false
   },
   "outputs": [
    {
     "data": {
      "text/latex": [
       "$$\\left ( 1.33333724085e-36, \\quad 1.33333333333333 \\cdot 10^{-36}\\right )$$"
      ],
      "text/plain": [
       "(1.33333724085e-36, 1.33333333333333e-36)"
      ]
     },
     "execution_count": 155,
     "metadata": {},
     "output_type": "execute_result"
    }
   ],
   "source": [
    "# Simple test to make sure the idea works\n",
    "compare_num_int(a*(10**m)**-4,a*((10**m)**-3)/3,[(m,12.0),(a,4)])"
   ]
  },
  {
   "cell_type": "code",
   "execution_count": 151,
   "metadata": {
    "collapsed": false
   },
   "outputs": [
    {
     "data": {
      "text/latex": [
       "$$\\left ( -5.66838240425e+17, \\quad -2.02058786105502 \\cdot 10^{18}\\right )$$"
      ],
      "text/plain": [
       "(-5.66838240425e+17, -2.02058786105502e+18)"
      ]
     },
     "execution_count": 151,
     "metadata": {},
     "output_type": "execute_result"
    }
   ],
   "source": [
    "#comp_lnl_num_anl(10,14.0,-1.8,0.7,0)\n",
    "compare_num_int(gd*log(g/q),lnl_standard,[(m,11.0),(hd,14.0),(ad,-1.8),(bd,0.7),(lnAd,0),(h,14.0),(a,-1.8),(b,0.7),(lnA,0)])"
   ]
  },
  {
   "cell_type": "code",
   "execution_count": 152,
   "metadata": {
    "collapsed": false
   },
   "outputs": [
    {
     "data": {
      "text/latex": [
       "$$\\left ( 6.94445751179e+17, \\quad -1.47747886419166 \\cdot 10^{18}\\right )$$"
      ],
      "text/plain": [
       "(6.94445751179e+17, -1.47747886419166e+18)"
      ]
     },
     "execution_count": 152,
     "metadata": {},
     "output_type": "execute_result"
    }
   ],
   "source": [
    "compare_num_int(a*(uppergamma(zd,xd)-gamma(zd))/m,t,[(m,11.0),(hd,14.0),(ad,-1.8),(bd,0.7),(lnAd,0),(h,14.0),(a,-1.8),(b,0.7),(lnA,0)])"
   ]
  },
  {
   "cell_type": "code",
   "execution_count": 148,
   "metadata": {
    "collapsed": false
   },
   "outputs": [
    {
     "name": "stdout",
     "output_type": "stream",
     "text": [
      "1.33333333335e-36\n",
      "1.33333333334e-36\n"
     ]
    }
   ],
   "source": [
    "vec = np.linspace(12,18,100000)\n",
    "xvec = 10**vec\n",
    "print simps(4*(10**vec)**-4 * np.log(10) * 10**vec,dx=vec[1]-vec[0])\n",
    "print simps(4*xvec**-4,xvec)"
   ]
  },
  {
   "cell_type": "code",
   "execution_count": 154,
   "metadata": {
    "collapsed": false
   },
   "outputs": [
    {
     "data": {
      "text/latex": [
       "$$\\left ( -9.91853252504e+19, \\quad 455628618081513.0\\right )$$"
      ],
      "text/plain": [
       "(-9.91853252504e+19, 455628618081513.0)"
      ]
     },
     "execution_count": 154,
     "metadata": {},
     "output_type": "execute_result"
    }
   ],
   "source": [
    "compare_num_int(b*x*(uppergamma(zd,xd)-gamma(zd))/m,u,[(m,11.0),(hd,14.0),(ad,-1.8),(bd,0.7),(lnAd,0),(h,14.0),(a,-1.8),(b,0.7),(lnA,0)])"
   ]
  },
  {
   "cell_type": "code",
   "execution_count": 47,
   "metadata": {
    "collapsed": false
   },
   "outputs": [
    {
     "data": {
      "text/latex": [
       "$$-2.8110335851869$$"
      ],
      "text/plain": [
       "-2.81103358518690"
      ]
     },
     "execution_count": 47,
     "metadata": {},
     "output_type": "execute_result"
    }
   ],
   "source": [
    "N(simplify(diff(lnl_standard,h).subs([(h,hd),(a,ad),(b,bd)])).subs([(m,10**10),(hd,13.0),(ad,-1.9),(bd,0.8),(lnAd,0)]))"
   ]
  },
  {
   "cell_type": "code",
   "execution_count": 266,
   "metadata": {
    "collapsed": false
   },
   "outputs": [
    {
     "data": {
      "text/latex": [
       "$$\\left ( \\begin{cases} 0 & \\text{for}\\: \\alpha = 0 \\\\\\frac{1}{\\alpha^{2}} \\left(2 \\alpha - e^{2 \\alpha} + 1\\right) e^{- 2 \\alpha} & \\text{otherwise} \\end{cases}, \\quad \\begin{cases} -2 & \\text{for}\\: \\alpha^{3} = 0 \\\\\\frac{1}{\\alpha^{2}} \\left(2 \\alpha - e^{2 \\alpha} + 1\\right) e^{- 2 \\alpha} & \\text{otherwise} \\end{cases}\\right )$$"
      ],
      "text/plain": [
       "⎛                                                        ⎧                    \n",
       "⎜⎧                  0                    for \\alpha = 0  ⎪                 -2 \n",
       "⎜⎪                                                       ⎪                    \n",
       "⎜⎪⎛            2⋅\\alpha    ⎞  -2⋅\\alpha                  ⎪⎛            2⋅\\alph\n",
       "⎜⎨⎝2⋅\\alpha - ℯ         + 1⎠⋅ℯ                         , ⎨⎝2⋅\\alpha - ℯ       \n",
       "⎜⎪─────────────────────────────────────    otherwise     ⎪────────────────────\n",
       "⎜⎪                     2                                 ⎪                    \n",
       "⎜⎩               \\alpha                                  ⎪               \\alph\n",
       "⎝                                                        ⎩                    \n",
       "\n",
       "                             3    ⎞\n",
       "                   for \\alpha  = 0⎟\n",
       "                                  ⎟\n",
       "a    ⎞  -2⋅\\alpha                 ⎟\n",
       "  + 1⎠⋅ℯ                          ⎟\n",
       "─────────────────     otherwise   ⎟\n",
       " 2                                ⎟\n",
       "a                                 ⎟\n",
       "                                  ⎠"
      ]
     },
     "execution_count": 266,
     "metadata": {},
     "output_type": "execute_result"
    }
   ],
   "source": [
    "simplify(diff(integrate(exp(-a*x),(x,0,2)),a)), simplify(integrate(diff(exp(-a*x),a),(x,0,2)))"
   ]
  },
  {
   "cell_type": "code",
   "execution_count": 270,
   "metadata": {
    "collapsed": false
   },
   "outputs": [],
   "source": [
    "m,theta = symbols(r'm,\\theta')\n",
    "g,gd = symbols(r\"g \\bar{g}\",cls=Function)"
   ]
  },
  {
   "cell_type": "code",
   "execution_count": 259,
   "metadata": {
    "collapsed": false
   },
   "outputs": [
    {
     "data": {
      "text/latex": [
       "$$g{\\left (m \\right )}$$"
      ],
      "text/plain": [
       "g(m)"
      ]
     },
     "execution_count": 259,
     "metadata": {},
     "output_type": "execute_result"
    }
   ],
   "source": [
    "g(m)"
   ]
  },
  {
   "cell_type": "code",
   "execution_count": 267,
   "metadata": {
    "collapsed": false
   },
   "outputs": [
    {
     "data": {
      "text/latex": [
       "$$\\int \\frac{\\partial}{\\partial m} g{\\left (m,\\theta \\right )} \\int \\frac{\\partial}{\\partial \\theta} g{\\left (m,\\theta \\right )}\\, dm + \\frac{\\partial^{2}}{\\partial m\\partial \\theta}  g{\\left (m,\\theta \\right )} \\int g{\\left (m,\\theta \\right )}\\, dm\\, dm$$"
      ],
      "text/plain": [
       "⌠                                                                             \n",
       "⎮ ⎛                 ⌠                                 2                       \n",
       "⎮ ⎜∂                ⎮    ∂                           ∂                    ⌠   \n",
       "⎮ ⎜──(g(m, \\theta))⋅⎮ ───────(g(m, \\theta)) dm + ──────────(g(m, \\theta))⋅⎮ g(\n",
       "⎮ ⎜∂m               ⎮ ∂\\theta                    ∂\\theta ∂m               ⌡   \n",
       "⎮ ⎝                 ⌡                                                         \n",
       "⌡                                                                             \n",
       "\n",
       "                 \n",
       "             ⎞   \n",
       "             ⎟   \n",
       "m, \\theta) dm⎟ dm\n",
       "             ⎟   \n",
       "             ⎠   \n",
       "                 "
      ]
     },
     "execution_count": 267,
     "metadata": {},
     "output_type": "execute_result"
    }
   ],
   "source": [
    "simplify(diff(integrate(integrate(g(m,theta),m)*diff(g(m,theta),m),m),theta))"
   ]
  },
  {
   "cell_type": "code",
   "execution_count": 272,
   "metadata": {
    "collapsed": false
   },
   "outputs": [
    {
     "data": {
      "text/latex": [
       "$$\\int \\frac{\\frac{d}{d m} g{\\left (m \\right )}}{g{\\left (m \\right )}} \\int \\bar{g}{\\left (m \\right )}\\, dm\\, dm$$"
      ],
      "text/plain": [
       "⌠                            \n",
       "⎮ d        ⌠                 \n",
       "⎮ ──(g(m))⋅⎮ \\bar{g}(m) dm   \n",
       "⎮ dm       ⌡                 \n",
       "⎮ ──────────────────────── dm\n",
       "⎮           g(m)             \n",
       "⌡                            "
      ]
     },
     "execution_count": 272,
     "metadata": {},
     "output_type": "execute_result"
    }
   ],
   "source": [
    "simplify(integrate(integrate(gd(m),m)*diff(g(m),m)/g(m),m))"
   ]
  },
  {
   "cell_type": "code",
   "execution_count": null,
   "metadata": {
    "collapsed": true
   },
   "outputs": [],
   "source": []
  }
 ],
 "metadata": {
  "hide_input": true,
  "kernelspec": {
   "display_name": "Python 2",
   "language": "python",
   "name": "python2"
  },
  "language_info": {
   "codemirror_mode": {
    "name": "ipython",
    "version": 2
   },
   "file_extension": ".py",
   "mimetype": "text/x-python",
   "name": "python",
   "nbconvert_exporter": "python",
   "pygments_lexer": "ipython2",
   "version": "2.7.11"
  },
  "latex_envs": {
   "bibliofile": "biblio.bib",
   "cite_by": "apalike",
   "current_citInitial": 1,
   "eqLabelWithNumbers": true,
   "eqNumInitial": 0
  }
 },
 "nbformat": 4,
 "nbformat_minor": 0
}
