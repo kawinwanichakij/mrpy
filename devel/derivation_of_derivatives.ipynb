{
 "cells": [
  {
   "cell_type": "markdown",
   "metadata": {},
   "source": [
    "# Specification of Jacobians/Hessians"
   ]
  },
  {
   "cell_type": "markdown",
   "metadata": {},
   "source": [
    "This notebook is for the development of the analytic Jacobians and Hessians which will go into the main code. We do this anlytically via SymPy."
   ]
  },
  {
   "cell_type": "code",
   "execution_count": 128,
   "metadata": {
    "collapsed": false
   },
   "outputs": [],
   "source": [
    "from sympy import *\n",
    "init_printing(use_latex=\"mathjax\")\n",
    "from sympy import mpmath\n",
    "from scipy.integrate import simps"
   ]
  },
  {
   "cell_type": "code",
   "execution_count": 7,
   "metadata": {
    "collapsed": true
   },
   "outputs": [],
   "source": [
    "from IPython.display import display"
   ]
  },
  {
   "cell_type": "code",
   "execution_count": 237,
   "metadata": {
    "collapsed": false
   },
   "outputs": [],
   "source": [
    "x,y,b, H = symbols(r'x,y,\\beta,\\mathcal{H}_\\star',positive=True)\n",
    "h, z,a,lnA,m = symbols(r'h,z,\\alpha,\\ln{}A,m')\n",
    "xx,yy,zz,HH,qq,gg = symbols(r'x,y,z,\\mathcal{H}_\\star,q,g')\n",
    "\n",
    "hd,ad,bd,lnAd = symbols(r\"h',\\alpha',\\beta', \\ln{}A'\")\n",
    "mmin = symbols(r\"m_{\\rm min}\")"
   ]
  },
  {
   "cell_type": "markdown",
   "metadata": {},
   "source": [
    "## MRP functions"
   ]
  },
  {
   "cell_type": "code",
   "execution_count": 58,
   "metadata": {
    "collapsed": false
   },
   "outputs": [],
   "source": [
    "H = 10**h\n",
    "y = 10**m/H\n",
    "x = y**b\n",
    "z = (a+1)/b\n",
    "g = exp(lnA)*b*y**a * exp(-x)\n",
    "q = exp(lnA)*10**h * uppergamma(z,x)\n",
    "k = H**2 * gamma(z+1/b)"
   ]
  },
  {
   "cell_type": "code",
   "execution_count": 59,
   "metadata": {
    "collapsed": true
   },
   "outputs": [],
   "source": [
    "Hd = 10**hd\n",
    "yd = 10**m/Hd\n",
    "xd = yd**bd\n",
    "zd = (ad+1)/bd\n",
    "gd = exp(lnAd)*bd*yd**ad * exp(-xd)\n",
    "qd = exp(lnAd)*Hd * uppergamma(zd,xd)"
   ]
  },
  {
   "cell_type": "code",
   "execution_count": 60,
   "metadata": {
    "collapsed": false
   },
   "outputs": [
    {
     "data": {
      "text/latex": [
       "$$\\beta y^{\\alpha} e^{\\ln{}A} e^{- x}$$"
      ],
      "text/plain": [
       "       \\alpha  \\ln{}A  -x\n",
       "\\beta⋅y      ⋅ℯ      ⋅ℯ  "
      ]
     },
     "execution_count": 60,
     "metadata": {},
     "output_type": "execute_result"
    }
   ],
   "source": [
    "g.subs([(x,xx),(y,yy)])"
   ]
  },
  {
   "cell_type": "code",
   "execution_count": 61,
   "metadata": {
    "collapsed": false
   },
   "outputs": [
    {
     "data": {
      "text/latex": [
       "$$\\mathcal{H}_\\star e^{\\ln{}A} \\Gamma\\left(z, x\\right)$$"
      ],
      "text/plain": [
       "                   \\ln{}A        \n",
       "\\mathcal{H}_\\star⋅ℯ      ⋅Γ(z, x)"
      ]
     },
     "execution_count": 61,
     "metadata": {},
     "output_type": "execute_result"
    }
   ],
   "source": [
    "q.subs([(x,xx),(y,yy),(z,zz),(H,HH)])"
   ]
  },
  {
   "cell_type": "markdown",
   "metadata": {},
   "source": [
    "## First Derivatives of lng, lnk and q"
   ]
  },
  {
   "cell_type": "code",
   "execution_count": 127,
   "metadata": {
    "collapsed": true
   },
   "outputs": [],
   "source": [
    "def diff_1(exp,var):\n",
    "    out = simplify(diff(exp,var)).subs([(q,qq),(g,gg)])\n",
    "    \n",
    "    more = 0\n",
    "    while more != out:\n",
    "        out = more or out\n",
    "        more = simplify(out).subs([(q,qq),(g,gg)])\n",
    "        \n",
    "    out = more.subs([(x,xx),(y,yy),(z,zz),(H,HH)])\n",
    "    \n",
    "    more = 0\n",
    "    while more != out:\n",
    "        out = more or out\n",
    "        more = simplify(out).subs([(x,xx),(y,yy),(z,zz),(H,HH)])\n",
    "        \n",
    "    return more"
   ]
  },
  {
   "cell_type": "code",
   "execution_count": 83,
   "metadata": {
    "collapsed": false
   },
   "outputs": [
    {
     "data": {
      "text/latex": [
       "$$1$$"
      ],
      "text/plain": [
       "1"
      ]
     },
     "metadata": {},
     "output_type": "display_data"
    },
    {
     "data": {
      "text/latex": [
       "$$\\left(- \\alpha + \\beta x\\right) \\log{\\left (10 \\right )}$$"
      ],
      "text/plain": [
       "(-\\alpha + \\beta⋅x)⋅log(10)"
      ]
     },
     "metadata": {},
     "output_type": "display_data"
    },
    {
     "data": {
      "text/latex": [
       "$$\\log{\\left (y \\right )}$$"
      ],
      "text/plain": [
       "log(y)"
      ]
     },
     "metadata": {},
     "output_type": "display_data"
    },
    {
     "data": {
      "text/latex": [
       "$$- x \\log{\\left (y \\right )} + \\frac{1}{\\beta}$$"
      ],
      "text/plain": [
       "              1  \n",
       "-x⋅log(y) + ─────\n",
       "            \\beta"
      ]
     },
     "metadata": {},
     "output_type": "display_data"
    }
   ],
   "source": [
    "glna = diff_1(log(g),lnA)\n",
    "gh = diff_1(log(g),h)\n",
    "ga = diff_1(log(g),a)\n",
    "gb = diff_1(log(g),b)\n",
    "display(glna,gh,ga,gb)"
   ]
  },
  {
   "cell_type": "markdown",
   "metadata": {},
   "source": [
    "## Analytic Likelihood"
   ]
  },
  {
   "cell_type": "code",
   "execution_count": 62,
   "metadata": {
    "collapsed": false
   },
   "outputs": [],
   "source": [
    "u = (Hd/H)**b * (Hd *uppergamma(zd+b/bd,xd) - xd**(b/bd)*qd)\n",
    "t = a * (Hd/bd)*gamma(zd) * (xd**zd * gamma(zd) * hyper((zd,zd),(zd+1,zd+1),-xd) + polygamma(0,zd) - log(xd))"
   ]
  },
  {
   "cell_type": "code",
   "execution_count": 63,
   "metadata": {
    "collapsed": true
   },
   "outputs": [],
   "source": [
    "lnl_standard = qd * log(g/q) + t - u"
   ]
  },
  {
   "cell_type": "code",
   "execution_count": 129,
   "metadata": {
    "collapsed": false
   },
   "outputs": [],
   "source": [
    "from mrpy import special\n",
    "lnl_integ = lambdify((m,hd,ad,bd,lnAd,h,a,b,lnA),gd*log(g/q),[\"numpy\",{\"uppergamma\":special.gammainc}])"
   ]
  },
  {
   "cell_type": "code",
   "execution_count": 149,
   "metadata": {
    "collapsed": false
   },
   "outputs": [],
   "source": [
    "def numerical_integral(func,args):\n",
    "    ld = lambdify(tuple([a[0] for a in args]),func,[\"numpy\",{\"uppergamma\":special.gammainc,\"gamma\":special.gamma}])\n",
    "    \n",
    "    vec = np.linspace(args[0][1],18.0,1000)\n",
    "    return simps(10**vec * np.log(10)*ld(vec,*[a[1] for a in args[1:]]),vec)\n",
    "\n",
    "def compare_num_int(integ_func,func,args):\n",
    "    num = numerical_integral(integ_func,args)\n",
    "    \n",
    "    anl = func.evalf(subs=dict(args))\n",
    "    return num,anl\n",
    "\n",
    "# def lnl_num(mmin,hd,ad,bd,lnAd,h=None,a=None,b=None,lnA=None):\n",
    "#     if h is None:\n",
    "#         h=hd\n",
    "#     if a is None:\n",
    "#         a = ad\n",
    "#     if b is None:\n",
    "#         b = bd\n",
    "#     if lnA is None:\n",
    "#         lnA = lnAd\n",
    "        \n",
    "#     m = np.linspace(mmin,18,1000)\n",
    "#     return simps(10**m * lnl_integ(m,hd,ad,bd,lnAd,h,a,b,lnA),m)\n",
    "\n",
    "# def comp_lnl_num_anl(mmin,hd_,ad_,bd_,lnAd_,h_=None,a_=None,b_=None,lnA_=None):\n",
    "#     if h_ is None:\n",
    "#         h_=hd_\n",
    "#     if a_ is None:\n",
    "#         a_ = ad_\n",
    "#     if b_ is None:\n",
    "#         b_ = bd_\n",
    "#     if lnA_ is None:\n",
    "#         lnA_ = lnAd_\n",
    "        \n",
    "#     num = lnl_num(mmin,hd_,ad_,bd_,lnAd_,h_,a_,b_,lnA_)\n",
    "#     anl = lnl_standard.evalf(subs={hd:hd_,ad:ad_,bd:bd_,lnAd:lnAd_,h:h_,a:a_,b:b_,lnA:lnA_,m:mmin})\n",
    "    \n",
    "#     return num,anl"
   ]
  },
  {
   "cell_type": "code",
   "execution_count": 155,
   "metadata": {
    "collapsed": false
   },
   "outputs": [
    {
     "data": {
      "text/latex": [
       "$$\\left ( 1.33333724085e-36, \\quad 1.33333333333333 \\cdot 10^{-36}\\right )$$"
      ],
      "text/plain": [
       "(1.33333724085e-36, 1.33333333333333e-36)"
      ]
     },
     "execution_count": 155,
     "metadata": {},
     "output_type": "execute_result"
    }
   ],
   "source": [
    "# Simple test to make sure the idea works\n",
    "compare_num_int(a*(10**m)**-4,a*((10**m)**-3)/3,[(m,12.0),(a,4)])"
   ]
  },
  {
   "cell_type": "code",
   "execution_count": 151,
   "metadata": {
    "collapsed": false
   },
   "outputs": [
    {
     "data": {
      "text/latex": [
       "$$\\left ( -5.66838240425e+17, \\quad -2.02058786105502 \\cdot 10^{18}\\right )$$"
      ],
      "text/plain": [
       "(-5.66838240425e+17, -2.02058786105502e+18)"
      ]
     },
     "execution_count": 151,
     "metadata": {},
     "output_type": "execute_result"
    }
   ],
   "source": [
    "#comp_lnl_num_anl(10,14.0,-1.8,0.7,0)\n",
    "compare_num_int(gd*log(g/q),lnl_standard,[(m,11.0),(hd,14.0),(ad,-1.8),(bd,0.7),(lnAd,0),(h,14.0),(a,-1.8),(b,0.7),(lnA,0)])"
   ]
  },
  {
   "cell_type": "code",
   "execution_count": 152,
   "metadata": {
    "collapsed": false
   },
   "outputs": [
    {
     "data": {
      "text/latex": [
       "$$\\left ( 6.94445751179e+17, \\quad -1.47747886419166 \\cdot 10^{18}\\right )$$"
      ],
      "text/plain": [
       "(6.94445751179e+17, -1.47747886419166e+18)"
      ]
     },
     "execution_count": 152,
     "metadata": {},
     "output_type": "execute_result"
    }
   ],
   "source": [
    "compare_num_int(a*(uppergamma(zd,xd)-gamma(zd))/m,t,[(m,11.0),(hd,14.0),(ad,-1.8),(bd,0.7),(lnAd,0),(h,14.0),(a,-1.8),(b,0.7),(lnA,0)])"
   ]
  },
  {
   "cell_type": "code",
   "execution_count": 148,
   "metadata": {
    "collapsed": false
   },
   "outputs": [
    {
     "name": "stdout",
     "output_type": "stream",
     "text": [
      "1.33333333335e-36\n",
      "1.33333333334e-36\n"
     ]
    }
   ],
   "source": [
    "vec = np.linspace(12,18,100000)\n",
    "xvec = 10**vec\n",
    "print simps(4*(10**vec)**-4 * np.log(10) * 10**vec,dx=vec[1]-vec[0])\n",
    "print simps(4*xvec**-4,xvec)"
   ]
  },
  {
   "cell_type": "code",
   "execution_count": 154,
   "metadata": {
    "collapsed": false
   },
   "outputs": [
    {
     "data": {
      "text/latex": [
       "$$\\left ( -9.91853252504e+19, \\quad 455628618081513.0\\right )$$"
      ],
      "text/plain": [
       "(-9.91853252504e+19, 455628618081513.0)"
      ]
     },
     "execution_count": 154,
     "metadata": {},
     "output_type": "execute_result"
    }
   ],
   "source": [
    "compare_num_int(b*x*(uppergamma(zd,xd)-gamma(zd))/m,u,[(m,11.0),(hd,14.0),(ad,-1.8),(bd,0.7),(lnAd,0),(h,14.0),(a,-1.8),(b,0.7),(lnA,0)])"
   ]
  },
  {
   "cell_type": "code",
   "execution_count": 47,
   "metadata": {
    "collapsed": false
   },
   "outputs": [
    {
     "data": {
      "text/latex": [
       "$$-2.8110335851869$$"
      ],
      "text/plain": [
       "-2.81103358518690"
      ]
     },
     "execution_count": 47,
     "metadata": {},
     "output_type": "execute_result"
    }
   ],
   "source": [
    "N(simplify(diff(lnl_standard,h).subs([(h,hd),(a,ad),(b,bd)])).subs([(m,10**10),(hd,13.0),(ad,-1.9),(bd,0.8),(lnAd,0)]))"
   ]
  },
  {
   "cell_type": "code",
   "execution_count": 67,
   "metadata": {
    "collapsed": true
   },
   "outputs": [],
   "source": [
    "integrate?"
   ]
  },
  {
   "cell_type": "code",
   "execution_count": 157,
   "metadata": {
    "collapsed": false
   },
   "outputs": [
    {
     "data": {
      "text/latex": [
       "$$\\frac{1}{\\alpha + 1}$$"
      ],
      "text/plain": [
       "    1     \n",
       "──────────\n",
       "\\alpha + 1"
      ]
     },
     "execution_count": 157,
     "metadata": {},
     "output_type": "execute_result"
    }
   ],
   "source": [
    "diff(log(z),a)"
   ]
  },
  {
   "cell_type": "code",
   "execution_count": 158,
   "metadata": {
    "collapsed": false
   },
   "outputs": [
    {
     "data": {
      "text/latex": [
       "$$\\frac{1}{\\beta} \\left(\\alpha + 1\\right)$$"
      ],
      "text/plain": [
       "\\alpha + 1\n",
       "──────────\n",
       "  \\beta   "
      ]
     },
     "execution_count": 158,
     "metadata": {},
     "output_type": "execute_result"
    }
   ],
   "source": [
    "z"
   ]
  },
  {
   "cell_type": "markdown",
   "metadata": {},
   "source": [
    "## Simple Power-Law Model"
   ]
  },
  {
   "cell_type": "code",
   "execution_count": 207,
   "metadata": {
    "collapsed": false
   },
   "outputs": [],
   "source": [
    "xi,xid = symbols(r\"\\xi,\\xi'\",negative=True)\n",
    "m = symbols(\"m\",positive=True)\n",
    "g = exp(lnA)*(m/H)**(-1+xi)\n",
    "gd = exp(lnAd)*(m/Hd)**(-1+xid)"
   ]
  },
  {
   "cell_type": "code",
   "execution_count": 208,
   "metadata": {
    "collapsed": false
   },
   "outputs": [],
   "source": [
    "q = integrate(g,m)\n",
    "qd = integrate(gd,m)"
   ]
  },
  {
   "cell_type": "code",
   "execution_count": 209,
   "metadata": {
    "collapsed": false
   },
   "outputs": [
    {
     "data": {
      "text/latex": [
       "$$\\frac{\\xi}{m}$$"
      ],
      "text/plain": [
       "\\xi\n",
       "───\n",
       " m "
      ]
     },
     "execution_count": 209,
     "metadata": {},
     "output_type": "execute_result"
    }
   ],
   "source": [
    "simplify(g/q)"
   ]
  },
  {
   "cell_type": "code",
   "execution_count": 210,
   "metadata": {
    "collapsed": false
   },
   "outputs": [],
   "source": [
    "lnl = simplify(integrate(gd*log(xi),m)  - integrate(gd*log(m),m) )"
   ]
  },
  {
   "cell_type": "code",
   "execution_count": 211,
   "metadata": {
    "collapsed": false
   },
   "outputs": [
    {
     "data": {
      "text/latex": [
       "$$\\frac{10^{h'} e^{\\ln{}A'}}{\\xi'^{2} \\left(10^{- h'} m\\right)^{- \\xi'}} \\left(\\xi' \\log{\\left (\\xi \\right )} - \\xi' \\log{\\left (m \\right )} + 1\\right)$$"
      ],
      "text/plain": [
       "              \\xi'                                           \n",
       "  h' ⎛  -h'  ⎞                                        \\ln{}A'\n",
       "10  ⋅⎝10   ⋅m⎠    ⋅(\\xi'⋅log(\\xi) - \\xi'⋅log(m) + 1)⋅ℯ       \n",
       "─────────────────────────────────────────────────────────────\n",
       "                                2                            \n",
       "                            \\xi'                             "
      ]
     },
     "execution_count": 211,
     "metadata": {},
     "output_type": "execute_result"
    }
   ],
   "source": [
    "lnl"
   ]
  },
  {
   "cell_type": "code",
   "execution_count": 212,
   "metadata": {
    "collapsed": false
   },
   "outputs": [
    {
     "data": {
      "text/latex": [
       "$$\\frac{10^{h'} e^{\\ln{}A'}}{\\xi'^{2} \\left(10^{- h'} m\\right)^{- \\xi'}}$$"
      ],
      "text/plain": [
       "              \\xi'         \n",
       "  h' ⎛  -h'  ⎞      \\ln{}A'\n",
       "10  ⋅⎝10   ⋅m⎠    ⋅ℯ       \n",
       "───────────────────────────\n",
       "               2           \n",
       "           \\xi'            "
      ]
     },
     "execution_count": 212,
     "metadata": {},
     "output_type": "execute_result"
    }
   ],
   "source": [
    "diff(lnl,xi).subs(xi,xid)"
   ]
  },
  {
   "cell_type": "markdown",
   "metadata": {},
   "source": [
    "Not 0!!!!"
   ]
  },
  {
   "cell_type": "code",
   "execution_count": 218,
   "metadata": {
    "collapsed": true
   },
   "outputs": [],
   "source": [
    "int_gd_lnm = simplify(-lnl + integrate(gd*log(xi),m))"
   ]
  },
  {
   "cell_type": "code",
   "execution_count": 219,
   "metadata": {
    "collapsed": false
   },
   "outputs": [
    {
     "data": {
      "text/latex": [
       "$$\\frac{10^{h'} \\left(\\xi' \\log{\\left (m \\right )} - 1\\right) e^{\\ln{}A'}}{\\xi'^{2} \\left(10^{- h'} m\\right)^{- \\xi'}}$$"
      ],
      "text/plain": [
       "              \\xi'                           \n",
       "  h' ⎛  -h'  ⎞                        \\ln{}A'\n",
       "10  ⋅⎝10   ⋅m⎠    ⋅(\\xi'⋅log(m) - 1)⋅ℯ       \n",
       "─────────────────────────────────────────────\n",
       "                        2                    \n",
       "                    \\xi'                     "
      ]
     },
     "execution_count": 219,
     "metadata": {},
     "output_type": "execute_result"
    }
   ],
   "source": [
    "int_gd_lnm"
   ]
  },
  {
   "cell_type": "code",
   "execution_count": 220,
   "metadata": {
    "collapsed": false
   },
   "outputs": [],
   "source": []
  },
  {
   "cell_type": "code",
   "execution_count": 229,
   "metadata": {
    "collapsed": false
   },
   "outputs": [
    {
     "data": {
      "text/latex": [
       "$$\\log{\\left (\\frac{10^{h} e^{\\ln{}A}}{\\left(10^{- h}\\right)^{- \\xi}} \\right )}$$"
      ],
      "text/plain": [
       "   ⎛          \\xi        ⎞\n",
       "   ⎜  h ⎛  -h⎞     \\ln{}A⎟\n",
       "log⎝10 ⋅⎝10  ⎠   ⋅ℯ      ⎠"
      ]
     },
     "execution_count": 229,
     "metadata": {},
     "output_type": "execute_result"
    }
   ],
   "source": [
    "other = simplify(log(g) - (xi-1)*log(m))\n",
    "other"
   ]
  },
  {
   "cell_type": "code",
   "execution_count": 226,
   "metadata": {
    "collapsed": false
   },
   "outputs": [
    {
     "data": {
      "text/latex": [
       "$$\\left(\\xi - 1\\right) \\log{\\left (m \\right )}$$"
      ],
      "text/plain": [
       "(\\xi - 1)⋅log(m)"
      ]
     },
     "execution_count": 226,
     "metadata": {},
     "output_type": "execute_result"
    }
   ],
   "source": [
    "simplify(log(g) - other) "
   ]
  },
  {
   "cell_type": "code",
   "execution_count": 227,
   "metadata": {
    "collapsed": true
   },
   "outputs": [],
   "source": [
    "lnl_poiss = simplify(-q + integrate(gd*other,m) + (xi-1)*int_gd_lnm)"
   ]
  },
  {
   "cell_type": "code",
   "execution_count": 228,
   "metadata": {
    "collapsed": false
   },
   "outputs": [
    {
     "data": {
      "text/latex": [
       "$$\\frac{1}{\\xi \\xi'^{2}} \\left(- \\frac{10^{h} \\xi'^{2} e^{\\ln{}A}}{\\left(10^{- h} m\\right)^{- \\xi}} + \\frac{10^{h'} \\xi \\xi' e^{\\ln{}A'}}{\\left(10^{- h'} m\\right)^{- \\xi'}} \\log{\\left (\\frac{10^{h} e^{\\ln{}A}}{\\left(10^{- h}\\right)^{- \\xi}} \\right )} + \\frac{10^{h'} \\xi e^{\\ln{}A'}}{\\left(10^{- h'} m\\right)^{- \\xi'}} \\left(\\xi - 1\\right) \\left(\\xi' \\log{\\left (m \\right )} - 1\\right)\\right)$$"
      ],
      "text/plain": [
       "                    \\xi                                  \\xi'             ⎛   \n",
       "    h     2 ⎛  -h  ⎞     \\ln{}A     h'          ⎛  -h'  ⎞      \\ln{}A'    ⎜  h\n",
       "- 10 ⋅\\xi' ⋅⎝10  ⋅m⎠   ⋅ℯ       + 10  ⋅\\xi⋅\\xi'⋅⎝10   ⋅m⎠    ⋅ℯ       ⋅log⎝10 \n",
       "──────────────────────────────────────────────────────────────────────────────\n",
       "                                                                              \n",
       "                                                                           \\xi\n",
       "\n",
       "       \\xi        ⎞                     \\xi'                                  \n",
       " ⎛  -h⎞     \\ln{}A⎟     h'     ⎛  -h'  ⎞                                  \\ln{\n",
       "⋅⎝10  ⎠   ⋅ℯ      ⎠ + 10  ⋅\\xi⋅⎝10   ⋅m⎠    ⋅(\\xi - 1)⋅(\\xi'⋅log(m) - 1)⋅ℯ    \n",
       "──────────────────────────────────────────────────────────────────────────────\n",
       "     2                                                                        \n",
       "⋅\\xi'                                                                         \n",
       "\n",
       "   \n",
       "}A'\n",
       "   \n",
       "───\n",
       "   \n",
       "   "
      ]
     },
     "execution_count": 228,
     "metadata": {},
     "output_type": "execute_result"
    }
   ],
   "source": [
    "lnl_poiss"
   ]
  },
  {
   "cell_type": "code",
   "execution_count": 234,
   "metadata": {
    "collapsed": false
   },
   "outputs": [
    {
     "data": {
      "text/latex": [
       "$$0$$"
      ],
      "text/plain": [
       "0"
      ]
     },
     "execution_count": 234,
     "metadata": {},
     "output_type": "execute_result"
    }
   ],
   "source": [
    "combsimp(expand(diff(lnl_poiss,h).subs({h:hd,xi:xid,lnA:lnAd})))"
   ]
  },
  {
   "cell_type": "code",
   "execution_count": 235,
   "metadata": {
    "collapsed": false
   },
   "outputs": [
    {
     "data": {
      "text/latex": [
       "$$0$$"
      ],
      "text/plain": [
       "0"
      ]
     },
     "execution_count": 235,
     "metadata": {},
     "output_type": "execute_result"
    }
   ],
   "source": [
    "simplify(diff(lnl_poiss,xi).subs({h:hd,xi:xid,lnA:lnAd}))"
   ]
  },
  {
   "cell_type": "code",
   "execution_count": 238,
   "metadata": {
    "collapsed": false
   },
   "outputs": [
    {
     "data": {
      "text/latex": [
       "$$0$$"
      ],
      "text/plain": [
       "0"
      ]
     },
     "execution_count": 238,
     "metadata": {},
     "output_type": "execute_result"
    }
   ],
   "source": [
    "simplify(diff(lnl_poiss,lnA).subs({h:hd,xi:xid,lnA:lnAd}))"
   ]
  },
  {
   "cell_type": "code",
   "execution_count": null,
   "metadata": {
    "collapsed": true
   },
   "outputs": [],
   "source": []
  }
 ],
 "metadata": {
  "hide_input": true,
  "kernelspec": {
   "display_name": "Python 2",
   "language": "python",
   "name": "python2"
  },
  "language_info": {
   "codemirror_mode": {
    "name": "ipython",
    "version": 2
   },
   "file_extension": ".py",
   "mimetype": "text/x-python",
   "name": "python",
   "nbconvert_exporter": "python",
   "pygments_lexer": "ipython2",
   "version": "2.7.11"
  },
  "latex_envs": {
   "bibliofile": "biblio.bib",
   "cite_by": "apalike",
   "current_citInitial": 1,
   "eqLabelWithNumbers": true,
   "eqNumInitial": 0
  }
 },
 "nbformat": 4,
 "nbformat_minor": 0
}
