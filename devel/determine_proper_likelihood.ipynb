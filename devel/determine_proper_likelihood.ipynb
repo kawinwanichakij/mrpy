{
 "cells": [
  {
   "cell_type": "markdown",
   "metadata": {},
   "source": [
    "# Obtaining Correct Likelihood"
   ]
  },
  {
   "cell_type": "markdown",
   "metadata": {},
   "source": [
    "The point of this notebook is to show what the correct likelihood for a bunch of sampled data is. This problem arises because at first I was using a likelihood that made sense, but which is shown here to be incorrect. Thus this notebook serves as an eternal(!?) signpost saying \"don't go this way\"."
   ]
  },
  {
   "cell_type": "markdown",
   "metadata": {},
   "source": [
    "## The Problem Summarized"
   ]
  },
  {
   "cell_type": "markdown",
   "metadata": {},
   "source": [
    "Let's say we have a distribution of points (e.g. a mass function), whose counts are given by the function $g(m|\\theta)$, which has the integral $q(m_{\\rm min}|\\theta)$ [the points are drawn above $m_{\\rm min}$ up to $m=\\infty$].\n",
    "\n",
    "Then a simple way to envisage the likelihood of these points is the following:\n",
    "\n",
    "$$ \\ln \\mathcal{L}_{\\rm pdf} = \\sum \\ln (g_i/q), $$\n",
    "\n",
    "i.e., the sum of the PDF at each point. In this case, the normalisation of $g$ cannot be directly recovered, but can be specified by equating $q$ with the total number of points. However, another way of thinking about it (often used in cluster counts) is to imagine binning all the points in very small bins, in which case each of the bins is a Poisson variable with 1 count. In this case, the likelihood is\n",
    "\n",
    "$$ \\ln \\mathcal{L}_{\\rm Ps} = -q + \\sum \\ln g_i. $$"
   ]
  },
  {
   "cell_type": "markdown",
   "metadata": {},
   "source": [
    "So which one is correct? One way of answering this analytically is to take an ideal case. Let's say we can somehow draw samples in which we perfectly represent the underlying distribution. In this case, the sum turns into an integral which is weighted by the number of points at each $m$.\n",
    "\n",
    "Say the points are drawn from the distribution with parameters $\\theta = \\theta'$, which we denote $g'$. Then the weight at each $m$ is just $g'(m)$, so the two likelihoods become\n",
    "\n",
    "$$ \\ln \\mathcal{L}_{\\rm pdf} = \\int_{m_{\\rm min}}^\\infty g' \\ln (g/q) dm, $$\n",
    "\n",
    "and \n",
    "\n",
    "$$ \\ln \\mathcal{L}_{\\rm Ps} = -q + \\int_{m_{\\rm min}}^\\infty dm\\  g' \\ln g. $$"
   ]
  },
  {
   "cell_type": "markdown",
   "metadata": {},
   "source": [
    "A simple test of whether these likelihoods are correct is that the maximum likelihood should be precisely at the parameters of the draw, i.e. $\\theta'$. Thus the jacobian at the solution should be equivalently 0."
   ]
  },
  {
   "cell_type": "markdown",
   "metadata": {},
   "source": [
    "## A Simple Model"
   ]
  },
  {
   "cell_type": "markdown",
   "metadata": {},
   "source": [
    "Let's use the simplest possible model that retains some resemblance to the MRP: a descending power-law:\n",
    "\n",
    "$$ g(m) = A m^{\\xi-1},$$\n",
    "\n",
    "where $\\xi<0$, $A>0$ and $m>0$."
   ]
  },
  {
   "cell_type": "code",
   "execution_count": 1,
   "metadata": {
    "collapsed": true
   },
   "outputs": [],
   "source": [
    "from sympy import *\n",
    "init_printing()"
   ]
  },
  {
   "cell_type": "code",
   "execution_count": 14,
   "metadata": {
    "collapsed": true
   },
   "outputs": [],
   "source": [
    "xi,xid = symbols(r\"\\xi,\\xi'\",negative=True)\n",
    "m, A, Ad = symbols(\"m,A,A'\",positive=True)\n",
    "mmin = symbols(r\"m_\\rm{min}\",positive=True)"
   ]
  },
  {
   "cell_type": "code",
   "execution_count": 3,
   "metadata": {
    "collapsed": true
   },
   "outputs": [],
   "source": [
    "g = A * m**(xi-1)\n",
    "gd = Ad*m**(xid-1)"
   ]
  },
  {
   "cell_type": "markdown",
   "metadata": {},
   "source": [
    "And $q$ is simply:"
   ]
  },
  {
   "cell_type": "code",
   "execution_count": 4,
   "metadata": {
    "collapsed": false
   },
   "outputs": [
    {
     "data": {
      "image/png": "[encoded data removed]",
      "text/latex": [
       "$$\\frac{A}{\\xi m^{- \\xi}}$$"
      ],
      "text/plain": [
       "   \\xi\n",
       "A⋅m   \n",
       "──────\n",
       " \\xi  "
      ]
     },
     "execution_count": 4,
     "metadata": {},
     "output_type": "execute_result"
    }
   ],
   "source": [
    "q = integrate(g,m)\n",
    "q"
   ]
  },
  {
   "cell_type": "markdown",
   "metadata": {},
   "source": [
    "### The pdf model"
   ]
  },
  {
   "cell_type": "markdown",
   "metadata": {},
   "source": [
    "In the pdf model, the term $g/q$ is simply"
   ]
  },
  {
   "cell_type": "code",
   "execution_count": 7,
   "metadata": {
    "collapsed": false
   },
   "outputs": [
    {
     "data": {
      "image/png": "[encoded data removed]",
      "text/latex": [
       "$$\\frac{\\xi}{m}$$"
      ],
      "text/plain": [
       "\\xi\n",
       "───\n",
       " m "
      ]
     },
     "execution_count": 7,
     "metadata": {},
     "output_type": "execute_result"
    }
   ],
   "source": [
    "gq = simplify(g/q)\n",
    "gq"
   ]
  },
  {
   "cell_type": "markdown",
   "metadata": {},
   "source": [
    "We can formally define the likelihood of the pdf model now:"
   ]
  },
  {
   "cell_type": "code",
   "execution_count": 18,
   "metadata": {
    "collapsed": false
   },
   "outputs": [
    {
     "data": {
      "text/latex": [
       "$$\\frac{A'}{\\xi'^{2} m_\\rm{min}^{- \\xi'}} \\left(\\xi' \\left(\\log{\\left (\\xi \\right )} - \\log{\\left (m_\\rm{min} \\right )}\\right) + 1\\right)$$"
      ],
      "text/plain": [
       "             \\xi'                                        \n",
       "A'⋅m_\\rm{min}    ⋅(\\xi'⋅(log(\\xi) - log(m_\\rm{min})) + 1)\n",
       "─────────────────────────────────────────────────────────\n",
       "                              2                          \n",
       "                          \\xi'                           "
      ]
     },
     "execution_count": 18,
     "metadata": {},
     "output_type": "execute_result"
    }
   ],
   "source": [
    "lnl_pdf = simplify(integrate(gd*(log(xi) - log(m)),m)).subs(m,mmin)\n",
    "lnl_pdf"
   ]
  },
  {
   "cell_type": "markdown",
   "metadata": {},
   "source": [
    "The jacobian at the solution is simple to generate:"
   ]
  },
  {
   "cell_type": "code",
   "execution_count": 19,
   "metadata": {
    "collapsed": false
   },
   "outputs": [
    {
     "data": {
      "text/latex": [
       "$$\\left ( 0, \\quad \\frac{A'}{\\xi'^{2} m_\\rm{min}^{- \\xi'}}\\right )$$"
      ],
      "text/plain": [
       "⎛                \\xi'⎞\n",
       "⎜   A'⋅m_\\rm{min}    ⎟\n",
       "⎜0, ─────────────────⎟\n",
       "⎜             2      ⎟\n",
       "⎝         \\xi'       ⎠"
      ]
     },
     "execution_count": 19,
     "metadata": {},
     "output_type": "execute_result"
    }
   ],
   "source": [
    "diff(lnl_pdf,A), simplify(diff(lnl_pdf,xi).subs(xi,xid))"
   ]
  },
  {
   "cell_type": "markdown",
   "metadata": {},
   "source": [
    "Clearly, this is not equivalent to 0, and depends on all input parameters."
   ]
  },
  {
   "cell_type": "markdown",
   "metadata": {},
   "source": [
    "### The Poisson model"
   ]
  },
  {
   "cell_type": "markdown",
   "metadata": {},
   "source": [
    "We help the integrater out a little when defining this because apparently the integral is a bit tricky, but humanly speaking it is fairly clear. We use the integral of $g \\ln m$ which was calculated in the previous section and add the rest to it:"
   ]
  },
  {
   "cell_type": "code",
   "execution_count": 20,
   "metadata": {
    "collapsed": true
   },
   "outputs": [],
   "source": [
    "int_gd_lnm = simplify(-lnl_pdf + integrate(gd*log(xi),m))\n",
    "other = simplify(log(g) - (xi-1)*log(m))"
   ]
  },
  {
   "cell_type": "code",
   "execution_count": 24,
   "metadata": {
    "collapsed": false
   },
   "outputs": [
    {
     "data": {
      "text/latex": [
       "$$\\frac{1}{\\xi \\xi'^{2}} \\left(- \\frac{A \\xi'^{2}}{m_\\rm{min}^{- \\xi}} + \\frac{A' \\xi}{m_\\rm{min}^{- \\xi'}} \\left(\\xi \\xi' \\log{\\left (m_\\rm{min} \\right )} - \\xi + \\xi' \\log{\\left (A \\right )} - \\xi' \\log{\\left (m_\\rm{min} \\right )} + 1\\right)\\right)$$"
      ],
      "text/plain": [
       "        2           \\xi                    \\xi'                               \n",
       "- A⋅\\xi' ⋅m_\\rm{min}    + A'⋅\\xi⋅m_\\rm{min}    ⋅(\\xi⋅\\xi'⋅log(m_\\rm{min}) - \\x\n",
       "──────────────────────────────────────────────────────────────────────────────\n",
       "                                                                2             \n",
       "                                                        \\xi⋅\\xi'              \n",
       "\n",
       "                                           \n",
       "i + \\xi'⋅log(A) - \\xi'⋅log(m_\\rm{min}) + 1)\n",
       "───────────────────────────────────────────\n",
       "                                           \n",
       "                                           "
      ]
     },
     "execution_count": 24,
     "metadata": {},
     "output_type": "execute_result"
    }
   ],
   "source": [
    "lnl_poiss = simplify(combsimp(-q + integrate(gd*other,m) + (xi-1)*int_gd_lnm).subs(m,mmin))\n",
    "lnl_poiss"
   ]
  },
  {
   "cell_type": "markdown",
   "metadata": {},
   "source": [
    "Again, the jacobian at the solution is simple:"
   ]
  },
  {
   "cell_type": "code",
   "execution_count": 29,
   "metadata": {
    "collapsed": false
   },
   "outputs": [
    {
     "data": {
      "image/png": "[encoded data removed]",
      "text/latex": [
       "$$\\left ( 0, \\quad 0\\right )$$"
      ],
      "text/plain": [
       "(0, 0)"
      ]
     },
     "execution_count": 29,
     "metadata": {},
     "output_type": "execute_result"
    }
   ],
   "source": [
    "diff(lnl_poiss,A).subs({xi:xid,A:Ad}), simplify(diff(lnl_poiss,xi).subs({xi:xid,A:Ad}))"
   ]
  },
  {
   "cell_type": "markdown",
   "metadata": {},
   "source": [
    "So it works."
   ]
  },
  {
   "cell_type": "code",
   "execution_count": null,
   "metadata": {
    "collapsed": true
   },
   "outputs": [],
   "source": []
  }
 ],
 "metadata": {
  "hide_input": true,
  "kernelspec": {
   "display_name": "Python 2",
   "language": "python",
   "name": "python2"
  },
  "language_info": {
   "codemirror_mode": {
    "name": "ipython",
    "version": 2
   },
   "file_extension": ".py",
   "mimetype": "text/x-python",
   "name": "python",
   "nbconvert_exporter": "python",
   "pygments_lexer": "ipython2",
   "version": "2.7.11"
  },
  "latex_envs": {
   "bibliofile": "biblio.bib",
   "cite_by": "apalike",
   "current_citInitial": 1,
   "eqLabelWithNumbers": true,
   "eqNumInitial": 0
  }
 },
 "nbformat": 4,
 "nbformat_minor": 0
}
