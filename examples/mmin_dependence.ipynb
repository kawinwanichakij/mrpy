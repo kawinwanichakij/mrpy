{
 "cells": [
  {
   "cell_type": "markdown",
   "metadata": {},
   "source": [
    "# Assessing the dependence of the fitted parameters on truncation mass"
   ]
  },
  {
   "cell_type": "markdown",
   "metadata": {},
   "source": [
    "This example shows the dependence of the fitted MRP parameters (for both Curve and PerObject data) on the choice of truncation mass. Fitting different types of samples with different truncation masses is covered.\n",
    "\n",
    "** The plot from this example can be found in MRP Appendix C **"
   ]
  },
  {
   "cell_type": "code",
   "execution_count": 2,
   "metadata": {
    "collapsed": false,
    "init_cell": true
   },
   "outputs": [],
   "source": [
    "#Imports\n",
    "%matplotlib inline\n",
    "import matplotlib.pyplot as plt\n",
    "import numpy as np\n",
    "from hmf import MassFunction\n",
    "\n",
    "from mrpy.fit_curve import get_fit_curve\n",
    "from mrpy.fit_perobj import PerObjFit"
   ]
  },
  {
   "cell_type": "markdown",
   "metadata": {},
   "source": [
    "We choose to use the halo samples, and accompanying EPS fit from Ishiyama+15. See the example ``fit_simulation_suite.ipynb`` in this directory for how to download and prepare the simulated data used here.\n",
    "\n",
    "Using these allow us to perform the fits with two methods, in which each should roughly correspond to the other."
   ]
  },
  {
   "cell_type": "code",
   "execution_count": 9,
   "metadata": {
    "collapsed": false
   },
   "outputs": [
    {
     "data": {
      "image/png": "[encoded data removed]",
      "text/plain": [
       "<matplotlib.figure.Figure at 0x7f0c3bcbfa90>"
      ]
     },
     "metadata": {},
     "output_type": "display_data"
    }
   ],
   "source": [
    "#### PARAMETERS\n",
    "z = 0\n",
    "OmegaM=0.3168\n",
    "H0=67.04\n",
    "Sigma8=0.8347\n",
    "rhob=OmegaM*2.7755e11\n",
    "mmax = 15.7\n",
    "mmins = np.linspace(6.5,13,35)\n",
    "\n",
    "# Construct the EPS mass function\n",
    "hmf = MassFunction(z=z,cosmo_params={\"Om0\":OmegaM,\"H0\":H0},sigma_8=Sigma8,\n",
    "                   hmf_model=\"Ishiyama\",Mmax=mmax,Mmin=mmins.min(),cut_fit=False,\n",
    "                   transfer_params={\"transfer__kmax\":200.0},lnk_min=-15,lnk_max=15,\n",
    "                   dlnk=0.001)\n",
    "\n",
    "\n",
    "# Calculate the best parameters for Curve data\n",
    "par = np.zeros((len(mmins),3))\n",
    "for i,mmin in enumerate(mmins):\n",
    "    dndm = hmf.dndm[hmf.M>10**mmin]\n",
    "    m = hmf.M[hmf.M>10**mmin]\n",
    "    par[i,:] = get_fit_curve(m,dndm)[0].x[:3]\n",
    "\n",
    "# Plot Curve data\n",
    "plt.figure(figsize=(9,5))\n",
    "plt.plot(mmins,par[:,0]/par[0,0],label=\"logHs EPS\",color=\"b\")\n",
    "plt.plot(mmins,par[:,1]/par[0,1],label=\"alpha\",color=\"g\")\n",
    "plt.plot(mmins,par[:,2]/par[0,2],label=\"beta\",color=\"r\")\n",
    "\n",
    "# Get unique masses from nu^2\n",
    "data = np.genfromtxt(\"n2gc/n2gc-m_z0.fof.compact\")\n",
    "mmins_sim=np.linspace(10,13,15)\n",
    "par_obj = np.zeros((len(mmins_sim),3))\n",
    "for i,mmin in enumerate(mmins_sim):\n",
    "    mask = data[:,0]>10**mmin\n",
    "    fitobj = PerObjFit(data[mask,0],data[mask,1],weight_scale=1,hs_bounds=(10,16),beta_bounds=(0.4,1.0))\n",
    "    par_obj[i,:] = fitobj.run_downhill()[0].x\n",
    "    \n",
    "# Plot the PerObj results\n",
    "plt.plot(mmins_sim,par_obj[:,0]/par_obj[0,0],label=\"SIM\",ls=\"--\",color=\"b\")\n",
    "plt.plot(mmins_sim,par_obj[:,1]/par_obj[0,1],ls=\"--\",color=\"g\")\n",
    "plt.plot(mmins_sim,par_obj[:,2]/par_obj[0,2],ls=\"--\",color=\"r\")\n",
    "\n",
    "# Axis Styling\n",
    "plt.legend(loc=0)\n",
    "plt.xlabel(r\"$m_{\\rm min}$, $\\log_{10}h^{-1}M_\\odot$\")\n",
    "plt.ylabel(\"Deviation from Initial\")\n",
    "plt.ylim((0.5,1.0))\n",
    "plt.savefig('../../mrpArticle/figures/dependence_on_mmin_sim.pdf')"
   ]
  },
  {
   "cell_type": "code",
   "execution_count": null,
   "metadata": {
    "collapsed": true
   },
   "outputs": [],
   "source": []
  }
 ],
 "metadata": {
  "celltoolbar": "Initialisation Cell",
  "hide_input": true,
  "kernelspec": {
   "display_name": "Python 2",
   "language": "python",
   "name": "python2"
  },
  "language_info": {
   "codemirror_mode": {
    "name": "ipython",
    "version": 2
   },
   "file_extension": ".py",
   "mimetype": "text/x-python",
   "name": "python",
   "nbconvert_exporter": "python",
   "pygments_lexer": "ipython2",
   "version": "2.7.11"
  },
  "latex_envs": {
   "bibliofile": "biblio.bib",
   "cite_by": "apalike",
   "current_citInitial": 1,
   "eqLabelWithNumbers": true,
   "eqNumInitial": 0
  }
 },
 "nbformat": 4,
 "nbformat_minor": 0
}
