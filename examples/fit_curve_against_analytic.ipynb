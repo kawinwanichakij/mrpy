{
 "cells": [
  {
   "cell_type": "code",
   "execution_count": null,
   "metadata": {
    "collapsed": true
   },
   "outputs": [],
   "source": [
    "# Fitting MRP to a theoretical HMF curve"
   ]
  },
  {
   "cell_type": "markdown",
   "metadata": {},
   "source": [
    "In this example, we do something very simple -- fit the MRP parameters using a theoretically produced HMF. This might be one of the first things you'd want to do with the MRP. In addition to the simple fit, we'll also change the truncation scale, to see how the fit performs over different mass ranges.\n",
    "\n",
    "** The resulting plot appears as figure 1 in MRP**"
   ]
  },
  {
   "cell_type": "code",
   "execution_count": 6,
   "metadata": {
    "collapsed": false
   },
   "outputs": [],
   "source": [
    "#Import necessary libraries\n",
    "%matplotlib inline\n",
    "plt.ioff()\n",
    "from mrpy import get_fit_curve\n",
    "\n",
    "#We'll use the hmf package to produce the theoretical HMF\n",
    "from hmf import MassFunction"
   ]
  },
  {
   "cell_type": "markdown",
   "metadata": {},
   "source": [
    "First, we produce a *hmf* model consistent with the Planck 2013 data, and resolved enough to produce a high-quality fit:"
   ]
  },
  {
   "cell_type": "code",
   "execution_count": 2,
   "metadata": {
    "collapsed": true
   },
   "outputs": [],
   "source": [
    "hmf = MassFunction(hmf_model=\"Tinker08\",Mmin=9,Mmax=15.5,lnk_min=-13,lnk_max=13,\n",
    "                   dlnk=0.01, transfer_params={\"transfer__kmax\":50.0},\n",
    "                   cut_fit=False,sigma_8=0.829,n=0.9603,dlog10m=0.1,\n",
    "                   cosmo_params={\"Om0\":0.315,\"Ob0\":0.02205/0.673**2,\"H0\":67.3})"
   ]
  },
  {
   "cell_type": "markdown",
   "metadata": {},
   "source": [
    "Here's the important part: actually fitting the data."
   ]
  },
  {
   "cell_type": "code",
   "execution_count": 13,
   "metadata": {
    "collapsed": false
   },
   "outputs": [
    {
     "name": "stdout",
     "output_type": "stream",
     "text": [
      "logHs, alpha, beta, lnA:  [ 14.47918395  -1.87632723   0.74915175 -43.49713308]\n",
      "logHs, alpha, beta, lnA:  [ 14.42418245  -1.85948334   0.71612775 -43.12492036]\n",
      "logHs, alpha, beta, lnA:  [ 14.41678523  -1.85766542   0.71187614 -43.07520332]\n"
     ]
    }
   ],
   "source": [
    "# Create the lists that we'll use to save the results\n",
    "res = [0]*3\n",
    "obj = [0]*3\n",
    "\n",
    "# 3 different truncation masses\n",
    "mmins = [1e9,1e11,1e13]\n",
    "\n",
    "for i,mmin in enumerate(mmins): \n",
    "    # Get theoretical data\n",
    "    dndm = hmf.dndm[hmf.M > mmin]\n",
    "    m = hmf.M[hmf.M>mmin]\n",
    "    \n",
    "    # Fit the MRP in the *simplest* way possible.\n",
    "    res[i], obj[i] = get_fit_curve(m,dndm)\n",
    "    \n",
    "    print \"logHs, alpha, beta, lnA: \", res[i].x # the actual result values\n"
   ]
  },
  {
   "cell_type": "markdown",
   "metadata": {},
   "source": [
    "Next the boring stuff... setting up and plotting the figure."
   ]
  },
  {
   "cell_type": "code",
   "execution_count": 17,
   "metadata": {
    "code_folding": [],
    "collapsed": false
   },
   "outputs": [
    {
     "data": {
      "image/png": "[encoded data removed]",
      "text/plain": [
       "<matplotlib.figure.Figure at 0x7fc591f3f650>"
      ]
     },
     "metadata": {},
     "output_type": "display_data"
    }
   ],
   "source": [
    "# Create the figure object\n",
    "fig,ax = plt.subplots(2,1,sharex=True,squeeze=True,gridspec_kw={\"height_ratios\":(2,1)},figsize=(6,5),\n",
    "                      subplot_kw={\"xscale\":\"log\"})\n",
    "\n",
    "# Set up the axis styles etc.\n",
    "ax[0].set_yscale('log')\n",
    "ax[0].set_ylim((3e-23,1e-10))\n",
    "ax[1].set_xlabel(r\"Mass, $h^{-1}M_\\odot$\",fontsize=15)\n",
    "ax[0].legend(loc=0,frameon=False)\n",
    "ax[0].set_ylabel(r\"$dn/dm$, $h^{4}$Mpc$^{-3}M_\\odot^{-1}$\",fontsize=14)\n",
    "ax[1].set_ylabel(\"Relative Deviation\")\n",
    "ax[0].yaxis.set_major_locator(LogLocator(numticks=9))\n",
    "ax[1].yaxis.set_major_locator(MaxNLocator(5))\n",
    "ax[0].tick_params(axis='both', which='major', labelsize=11)\n",
    "ax[1].tick_params(axis='both', which='major', labelsize=11)\n",
    "\n",
    "# Contract the space a bit\n",
    "plt.subplots_adjust(wspace=0.08,hspace=0.08)\n",
    "    \n",
    "# Plot the theoretical data\n",
    "ax[0].plot(hmf.M,hmf.dndm,label=\"Tinker+08\")\n",
    "ax[1].plot(hmf.M,hmf.dndm/hmf.dndm-1)\n",
    "\n",
    "# Plot the fitted data.\n",
    "# Note that 'obj' contains lots of quantities of interest, not least of which is a method\n",
    "# to calculate dn/dm!\n",
    "for i in range(3):\n",
    "    ax[0].plot(obj[i].m,obj[i].dndm(),label=r\"MRP $M_{\\rm min}=10^{%s}$\"%np.log10(mmins[i]),lw=2)\n",
    "    ax[1].plot(obj[i].m,obj[i].dndm()/hmf.dndm[hmf.M > mmins[i]]-1,lw=2)\n",
    "\n"
   ]
  },
  {
   "cell_type": "code",
   "execution_count": 20,
   "metadata": {
    "collapsed": false
   },
   "outputs": [],
   "source": [
    "# Just for me :)\n",
    "fig.savefig(\"../../mrpArticle/figures/comparison_tinker.pdf\")"
   ]
  },
  {
   "cell_type": "code",
   "execution_count": null,
   "metadata": {
    "collapsed": true
   },
   "outputs": [],
   "source": []
  }
 ],
 "metadata": {
  "hide_input": false,
  "kernelspec": {
   "display_name": "Python 2",
   "language": "python",
   "name": "python2"
  },
  "language_info": {
   "codemirror_mode": {
    "name": "ipython",
    "version": 2
   },
   "file_extension": ".py",
   "mimetype": "text/x-python",
   "name": "python",
   "nbconvert_exporter": "python",
   "pygments_lexer": "ipython2",
   "version": "2.7.11"
  },
  "latex_envs": {
   "bibliofile": "biblio.bib",
   "cite_by": "apalike",
   "current_citInitial": 1,
   "eqLabelWithNumbers": true,
   "eqNumInitial": 0
  }
 },
 "nbformat": 4,
 "nbformat_minor": 0
}
