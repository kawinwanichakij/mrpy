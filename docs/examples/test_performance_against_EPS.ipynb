{
 "cells": [
  {
   "cell_type": "markdown",
   "metadata": {},
   "source": [
    "# Testing comparative efficiency of MRP"
   ]
  },
  {
   "cell_type": "markdown",
   "metadata": {},
   "source": [
    "In this small example we want to test how efficient the MRP calculation is versus more traditional calculations of the halo mass function. We'll use the ``hmf`` library for the latter, and the magic ``%timeit`` ipython command."
   ]
  },
  {
   "cell_type": "code",
   "execution_count": 2,
   "metadata": {
    "collapsed": false
   },
   "outputs": [],
   "source": [
    "from mrpy import dndm\n",
    "from hmf import MassFunction"
   ]
  },
  {
   "cell_type": "code",
   "execution_count": 5,
   "metadata": {
    "collapsed": true
   },
   "outputs": [],
   "source": [
    "h = MassFunction()\n",
    "m = h.M"
   ]
  },
  {
   "cell_type": "code",
   "execution_count": 8,
   "metadata": {
    "collapsed": false
   },
   "outputs": [
    {
     "name": "stdout",
     "output_type": "stream",
     "text": [
      "1 loops, best of 3: 749 ms per loop\n",
      "10 loops, best of 3: 112 ms per loop\n",
      "10000 loops, best of 3: 148 µs per loop\n",
      "10000 loops, best of 3: 73.5 µs per loop\n"
     ]
    }
   ],
   "source": [
    "%timeit MassFunction().dndm  # Standard CAMB-based HMF\n",
    "%timeit MassFunction(transfer_model=\"EH\").dndm  # EPS HMF using analytic Eisenstein-Hu transfer function\n",
    "%timeit dndm(h.M,14.0,-1.8,0.8,norm=\"pdf\")      # MRP involving calculating the normalisation for a PDF (gamma function)\n",
    "%timeit dndm(h.M,14.0,-1.8,0.8,mmin=1e10,norm=1.0) # MRP with given normalisation"
   ]
  },
  {
   "cell_type": "code",
   "execution_count": null,
   "metadata": {
    "collapsed": true
   },
   "outputs": [],
   "source": []
  }
 ],
 "metadata": {
  "hide_input": true,
  "kernelspec": {
   "display_name": "Python 2",
   "language": "python",
   "name": "python2"
  },
  "language_info": {
   "codemirror_mode": {
    "name": "ipython",
    "version": 2
   },
   "file_extension": ".py",
   "mimetype": "text/x-python",
   "name": "python",
   "nbconvert_exporter": "python",
   "pygments_lexer": "ipython2",
   "version": "2.7.11"
  },
  "latex_envs": {
   "bibliofile": "biblio.bib",
   "cite_by": "apalike",
   "current_citInitial": 1,
   "eqLabelWithNumbers": true,
   "eqNumInitial": 0
  }
 },
 "nbformat": 4,
 "nbformat_minor": 0
}
