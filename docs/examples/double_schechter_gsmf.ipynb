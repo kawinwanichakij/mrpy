{
 "cells": [
  {
   "cell_type": "markdown",
   "metadata": {},
   "source": [
    "# Construct a custom fit for an extension of the MRP: a double-Schechter function."
   ]
  },
  {
   "cell_type": "markdown",
   "metadata": {},
   "source": [
    "**Note: this example is almost identical to that found in the R package ``tggd`` in the ``tggd_log`` documentation.**\n",
    "\n",
    "While ``mrpy`` has several in-built routines which aid in fitting the MRP function to data, it does not natively support fitting *extensions* of the MRP, such as double-Schechter functions. For such functions, one can fairly simply create custom fits using the methods found in Scipy, for example.\n",
    "\n",
    "In this example, we create a double-Schechter galaxy stellar mass function (GSMF) down to a target stellar mass (xmin) of log10(SM) = 8. We use data from Baldry+2012 to define the function:\n",
    "\n",
    "Both mixtures have\n",
    "\n",
    "$$  M_\\star \\equiv \\log_{10} \\mathcal{H}_\\star = 10.66 $$\n",
    "and\n",
    "$$\\beta = 1$$\n",
    "\n",
    "Mixture 1 has:\n",
    "\n",
    "$$  \\alpha_1 = -1.47 $$\n",
    "$$ \\phi^\\star_1 = 0.79\\times 10^{-3}$$\n",
    "\n",
    "Mixture 2 has:\n",
    "\n",
    "$$  \\alpha_2 = -0.35 $$\n",
    "$$ \\phi^\\star_2 = 3.96\\times 10^{-3}$$"
   ]
  },
  {
   "cell_type": "markdown",
   "metadata": {},
   "source": [
    "Furthermore, we use only the purely statistical routines of ``mrpy`` to achieve our results:"
   ]
  },
  {
   "cell_type": "code",
   "execution_count": 22,
   "metadata": {
    "collapsed": true
   },
   "outputs": [],
   "source": [
    "# Imports\n",
    "%matplotlib inline\n",
    "import matplotlib.pyplot as plt\n",
    "import numpy as np\n",
    "from scipy.stats import gaussian_kde\n",
    "from scipy.optimize import minimize\n",
    "\n",
    "from mrpy import stats"
   ]
  },
  {
   "cell_type": "markdown",
   "metadata": {},
   "source": [
    "First we define objects which capture the statistical quantities of each mixture:"
   ]
  },
  {
   "cell_type": "code",
   "execution_count": 3,
   "metadata": {
    "collapsed": true
   },
   "outputs": [],
   "source": [
    "mix1 = stats.TGGDlog(10.66,-1.47,1.0,8)\n",
    "mix2 = stats.TGGDlog(10.66,-0.35,1.0,8)"
   ]
  },
  {
   "cell_type": "markdown",
   "metadata": {},
   "source": [
    "$\\phi^\\star$ is defined as the value of the pdf *in log-space* at the pivot scale by $e$, i.e.\n",
    "\n",
    "$$ \\phi^\\star = PDF(M_\\star)\\times \\frac{e}{\\ln(10)} $$\n",
    "\n",
    "This normalisation is important in our sampling since it gives the ratio of samples produced by each mixture. We can produce the relevant normalisation using:"
   ]
  },
  {
   "cell_type": "code",
   "execution_count": 16,
   "metadata": {
    "collapsed": true
   },
   "outputs": [],
   "source": [
    "M1norm=0.79/mix1.pdf(10.66)\n",
    "M2norm=3.96/mix2.pdf(10.66)\n",
    "Mtot=M1norm+M2norm"
   ]
  },
  {
   "cell_type": "markdown",
   "metadata": {},
   "source": [
    "Now say we would like to sample 1e5 galaxies, we can produce these like so:"
   ]
  },
  {
   "cell_type": "code",
   "execution_count": 17,
   "metadata": {
    "collapsed": true
   },
   "outputs": [],
   "source": [
    "Nsamp=1e5\n",
    "\n",
    "np.random.seed(100)\n",
    "\n",
    "mix1_sample = mix1.rvs(int(Nsamp*M1norm/Mtot))\n",
    "mix2_sample = mix2.rvs(int(Nsamp*M2norm/Mtot))\n",
    "\n",
    "gal_sample = np.concatenate((mix1_sample,mix2_sample))"
   ]
  },
  {
   "cell_type": "markdown",
   "metadata": {},
   "source": [
    "Let's plot the distribution we've just created, to check if everything has worked okay:"
   ]
  },
  {
   "cell_type": "code",
   "execution_count": 20,
   "metadata": {
    "collapsed": false
   },
   "outputs": [
    {
     "data": {
      "text/plain": [
       "<matplotlib.legend.Legend at 0x7ff23e1afe90>"
      ]
     },
     "execution_count": 20,
     "metadata": {},
     "output_type": "execute_result"
    },
    {
     "data": {
      "image/png": "[encoded data removed]",
      "text/plain": [
       "<matplotlib.figure.Figure at 0x7ff23e256c90>"
      ]
     },
     "metadata": {},
     "output_type": "display_data"
    }
   ],
   "source": [
    "# Create x array to plot against\n",
    "x = np.linspace(8,12,401)\n",
    "\n",
    "plt.plot(x,gaussian_kde(gal_sample)(x),label=\"Sample\", lw=2)\n",
    "\n",
    "plt.plot(x,mix1.pdf(x) * M1norm/Mtot,label=\"Mixture 1\", lw=2)\n",
    "plt.plot(x,mix2.pdf(x) * M2norm/Mtot,label=\"Mixture 2\", lw=2)\n",
    "plt.plot(x,mix1.pdf(x) * M1norm/Mtot + mix2.pdf(x) * M2norm/Mtot, label=\"GSMF\", lw=2)\n",
    "plt.yscale('log')\n",
    "plt.ylim((1e-7,1))\n",
    "plt.legend(loc=0)"
   ]
  },
  {
   "cell_type": "markdown",
   "metadata": {},
   "source": [
    "Now we can try to fit the mixed model. The trick here is we fit for the mixture using an additional parameter $\\lambda$, where one component is multiplied by $\\lambda$ and the other $1-\\lambda$. We define it so that ``M1norm/Mtot=lambda`` and ``M1norm/Mtot=1-lambda``. Here's our model:"
   ]
  },
  {
   "cell_type": "code",
   "execution_count": 21,
   "metadata": {
    "collapsed": true
   },
   "outputs": [],
   "source": [
    "def mix_lnl(par,data):\n",
    "    mix1 = stats.TGGDlog(par[0],par[1],1.0,8)\n",
    "    mix2 = stats.TGGDlog(par[0],par[2],1.0,8)\n",
    "    \n",
    "    return -np.sum(np.log(mix1.pdf(data)*par[3] + mix2.pdf(data)*(1-par[3])))"
   ]
  },
  {
   "cell_type": "markdown",
   "metadata": {},
   "source": [
    "Now we can perform the fit, using a downhill-gradient method of our choice. The fit is probably not fantastic though. Generalised Gamma distributions (including truncated ones) display poor convergence properties using ML. Full MCMC is a better route when trying to fit GSMF type data. And the data certainly should *not* be binned!"
   ]
  },
  {
   "cell_type": "code",
   "execution_count": 26,
   "metadata": {
    "collapsed": false
   },
   "outputs": [
    {
     "name": "stdout",
     "output_type": "stream",
     "text": [
      "Maximum likelihood parameters:  [ 10.65427811  -1.46844765  -0.34935852   0.83445282]\n"
     ]
    }
   ],
   "source": [
    "GSMFfit = minimize(mix_lnl, x0=[10,-2,0,0.5], args=(gal_sample,), bounds=[(9,12),(-2.5,-0.5),(-1.0,0.5),(0.0,1.0)])\n",
    "\n",
    "print \"Maximum likelihood parameters: \", GSMFfit.x "
   ]
  },
  {
   "cell_type": "markdown",
   "metadata": {},
   "source": [
    "This accords very well with our input parameters!"
   ]
  }
 ],
 "metadata": {
  "hide_input": true,
  "kernelspec": {
   "display_name": "Python 2",
   "language": "python",
   "name": "python2"
  },
  "language_info": {
   "codemirror_mode": {
    "name": "ipython",
    "version": 2
   },
   "file_extension": ".py",
   "mimetype": "text/x-python",
   "name": "python",
   "nbconvert_exporter": "python",
   "pygments_lexer": "ipython2",
   "version": "2.7.11"
  },
  "latex_envs": {
   "bibliofile": "biblio.bib",
   "cite_by": "apalike",
   "current_citInitial": 1,
   "eqLabelWithNumbers": true,
   "eqNumInitial": 0
  }
 },
 "nbformat": 4,
 "nbformat_minor": 0
}
