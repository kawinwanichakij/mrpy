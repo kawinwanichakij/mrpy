{
 "cells": [
  {
   "cell_type": "markdown",
   "metadata": {},
   "source": [
    "# Exploring the hierarchical model with a pareto distribution"
   ]
  },
  {
   "cell_type": "markdown",
   "metadata": {},
   "source": [
    "The aim of this notebook is to explore using the hierarchical model to fit very simple distributions that are *similar* to the MRP. This should be faster and easier to muck around with than the full MRP, and give similar results."
   ]
  },
  {
   "cell_type": "markdown",
   "metadata": {},
   "source": [
    "First we define a few functions for generating data in a pareto distribution:\n",
    "\n",
    "\n",
    "$$ g(\\theta, m) = A m^{-(\\alpha+1)} $$\n",
    "\n",
    "$$ q(\\theta, m) = A m_{\\rm min}^{-\\alpha}/\\alpha $$"
   ]
  },
  {
   "cell_type": "code",
   "execution_count": 4,
   "metadata": {
    "collapsed": true
   },
   "outputs": [],
   "source": [
    "%matplotlib inline\n",
    "import matplotlib.pyplot as plt\n",
    "import numpy as np\n",
    "\n",
    "from mrpy.fit_perobj import _stan_cache"
   ]
  },
  {
   "cell_type": "code",
   "execution_count": 5,
   "metadata": {
    "collapsed": true
   },
   "outputs": [],
   "source": [
    "a = 0.8\n",
    "mmin = 1e3\n",
    "N = 1e5"
   ]
  },
  {
   "cell_type": "code",
   "execution_count": 6,
   "metadata": {
    "collapsed": false
   },
   "outputs": [],
   "source": [
    "def rpareto(xmin,a,N):\n",
    "    return xmin/np.random.random(N)**(1.0/a)"
   ]
  },
  {
   "cell_type": "code",
   "execution_count": 4,
   "metadata": {
    "collapsed": false
   },
   "outputs": [
    {
     "name": "stderr",
     "output_type": "stream",
     "text": [
      "/home/steven/anaconda2/lib/python2.7/site-packages/ipykernel/__main__.py:2: VisibleDeprecationWarning: using a non-integer number instead of an integer will result in an error in the future\n",
      "  from ipykernel import kernelapp as app\n"
     ]
    },
    {
     "data": {
      "image/png": "[encoded data removed]",
      "text/plain": [
       "<matplotlib.figure.Figure at 0x7f673c661550>"
      ]
     },
     "metadata": {},
     "output_type": "display_data"
    }
   ],
   "source": [
    "counts,bins,_ = plt.hist(np.log10(rpareto(mmin,a,N)))\n",
    "logm = np.linspace(np.log10(mmin),bins.max(),50)\n",
    "A = N *a/ (mmin**-a)\n",
    "plt.plot(logm,A*10**(-logm*a)*np.log(10)*(bins[1]-bins[0]))\n",
    "plt.yscale('log')"
   ]
  },
  {
   "cell_type": "markdown",
   "metadata": {},
   "source": [
    "## Simple PyStan Model"
   ]
  },
  {
   "cell_type": "code",
   "execution_count": 7,
   "metadata": {
    "collapsed": false
   },
   "outputs": [],
   "source": [
    "simple_model=\"\"\"\n",
    "functions {\n",
    "  real wpareto_log(vector logx,real logx_min,real alpha,real lnA){\n",
    "    return sum(lnA + log(log(10))-alpha*logx*log(10)) - exp(lnA)*pow(10,-logx_min*alpha)/alpha;\n",
    "  }  \n",
    "}\n",
    "data {\n",
    "  int<lower=0> N;\n",
    "  vector[N] logx;\n",
    "  \n",
    "  real<lower=0> alpha_min;\n",
    "  real<lower=0> alpha_max;\n",
    "  real lnA_min;\n",
    "  real lnA_max;\n",
    "}\n",
    "transformed data {\n",
    "  real logx_min;\n",
    "  logx_min <- min(logx);\n",
    "}\n",
    "parameters {\n",
    "  real<lower=lnA_min,upper=lnA_max> lnA;\n",
    "  real<lower=alpha_min,upper=alpha_max> alpha;\n",
    "}\n",
    "model {\n",
    "  logx ~ wpareto(logx_min, alpha, lnA);\n",
    "}\n",
    "\"\"\""
   ]
  },
  {
   "cell_type": "code",
   "execution_count": 8,
   "metadata": {
    "collapsed": true
   },
   "outputs": [],
   "source": [
    "def run_simple(alpha,mmin,N,alpha_bounds=(0.1,4)):\n",
    "    logx = np.log10(rpareto(mmin,alpha,int(N)))\n",
    "    true_lnA = np.log( N *alpha/ (mmin**-alpha))\n",
    "    lnA_bounds = (np.log( N *alpha_bounds[0]/ (mmin**-alpha_bounds[0])),\n",
    "                  np.log( N *alpha_bounds[1]/ (mmin**-alpha_bounds[1])))\n",
    "\n",
    "    data = {\"N\":int(N),\n",
    "            \"logx\":logx,\n",
    "            \"alpha_min\":alpha_bounds[0],\n",
    "            \"alpha_max\":alpha_bounds[1],\n",
    "            \"lnA_min\":lnA_bounds[0],\n",
    "            \"lnA_max\":lnA_bounds[1]}\n",
    "    \n",
    "    model = _stan_cache(model_name=\"pareto_simple\", model_code=simple_model)\n",
    "    \n",
    "    fit = model.optimizing(data=data)\n",
    "    return fit, model, data, true_lnA"
   ]
  },
  {
   "cell_type": "code",
   "execution_count": 57,
   "metadata": {
    "collapsed": false
   },
   "outputs": [
    {
     "name": "stdout",
     "output_type": "stream",
     "text": [
      "(7.605645764865546, 47.214852669686593)\n",
      "Using cached StanModel\n",
      "OrderedDict([(u'lnA', array(23.08977433351133)), (u'alpha', array(1.4879776406085483))])\n",
      "\"True\":  23.2081724867 1.5\n"
     ]
    }
   ],
   "source": [
    "fit,model,data, true_lnA = run_simple(1.5,1e4,8e3)\n",
    "print fit\n",
    "print '\"True\": ', true_lnA, 1.5"
   ]
  },
  {
   "cell_type": "markdown",
   "metadata": {},
   "source": [
    "Apparently this can't fit things with fewer than 8e3 particles???"
   ]
  },
  {
   "cell_type": "markdown",
   "metadata": {},
   "source": [
    "## More complex..."
   ]
  },
  {
   "cell_type": "markdown",
   "metadata": {},
   "source": [
    "First we define a function which can sample the distribution and cut it correctly:"
   ]
  },
  {
   "cell_type": "code",
   "execution_count": 9,
   "metadata": {
    "collapsed": true
   },
   "outputs": [],
   "source": [
    "def get_sample(mmin,alpha,lnA, sd=0.3):\n",
    "\n",
    "    low_mmin = mmin - sd*4\n",
    "    N = np.exp(lnA)*10**(-alpha*mmin)/alpha\n",
    "    \n",
    "    low_N = (10**low_mmin/10**mmin)**-alpha * N\n",
    "\n",
    "    underlying = np.log10(rpareto(10**low_mmin,alpha,int(low_N)))\n",
    "    \n",
    "    observed = np.random.normal(underlying,sd)\n",
    "    \n",
    "    observed = observed[observed>mmin]\n",
    "    \n",
    "    return observed,underlying"
   ]
  },
  {
   "cell_type": "code",
   "execution_count": 10,
   "metadata": {
    "collapsed": false
   },
   "outputs": [],
   "source": [
    "def run_simple_on_complex(alpha,mmin,lnA,sd=0.3,alpha_bounds=(0.1,4)):\n",
    "    logx,underlying = get_sample(mmin,alpha,lnA,sd)\n",
    "    \n",
    "    lnA_bounds = (lnA-10,lnA+10)\n",
    "\n",
    "    data = {\"N\":len(logx),\n",
    "            \"logx\":logx,\n",
    "            \"alpha_min\":alpha_bounds[0],\n",
    "            \"alpha_max\":alpha_bounds[1],\n",
    "            \"lnA_min\":lnA_bounds[0],\n",
    "            \"lnA_max\":lnA_bounds[1]}\n",
    "    \n",
    "    model = _stan_cache(model_name=\"pareto_simple\", model_code=simple_model)\n",
    "    \n",
    "    fit = model.optimizing(data=data)\n",
    "    \n",
    "    counts,bins,_ = plt.hist(logx,histtype='step',bins=40)\n",
    "    plt.hist(underlying,histtype='step',bins=bins)\n",
    "    logm = np.linspace(mmin,bins.max(),50)\n",
    "    plt.plot(logm,np.exp(lnA)*10**(-logm*alpha)*np.log(10)*(bins[1]-bins[0]),label=\"Underlying\")\n",
    "    plt.plot(logm,np.exp(fit['lnA'])*10**(-logm*fit['alpha'])*np.log(10)*(bins[1]-bins[0]),label=\"Fit\")\n",
    "    plt.legend(loc=0)\n",
    "    plt.yscale('log')\n",
    "\n",
    "\n",
    "    return fit, model, data"
   ]
  },
  {
   "cell_type": "code",
   "execution_count": 164,
   "metadata": {
    "collapsed": false
   },
   "outputs": [
    {
     "name": "stdout",
     "output_type": "stream",
     "text": [
      "Using cached StanModel\n",
      "OrderedDict([(u'lnA', array(31.486603592925633)), (u'alpha', array(0.807879743822218))]) 31.0920137134\n"
     ]
    },
    {
     "data": {
      "image/png": "[encoded data removed]",
      "text/plain": [
       "<matplotlib.figure.Figure at 0x7ff7d3f5e7d0>"
      ]
     },
     "metadata": {},
     "output_type": "display_data"
    }
   ],
   "source": [
    "fit,model,data = run_simple_on_complex(0.8,12.0,31.0,0.4)\n",
    "print fit, true_lnA"
   ]
  },
  {
   "cell_type": "markdown",
   "metadata": {},
   "source": [
    "Actually, the normalisation is pretty poor here, since things are being up-scattered into the region of interest. We should try to fix that, by letting $m_{\\rm min}$ vary?"
   ]
  },
  {
   "cell_type": "code",
   "execution_count": 20,
   "metadata": {
    "collapsed": true
   },
   "outputs": [],
   "source": [
    "hierarchical_model_fixed_mmin=\"\"\"\n",
    "functions {\n",
    "  real wpareto_log(vector logx,real logx_min,real alpha,real lnA){\n",
    "    return sum(lnA + log(log(10))-alpha*logx*log(10)) - exp(lnA)*pow(10,-logx_min*alpha)/alpha;\n",
    "  }  \n",
    "}\n",
    "data {\n",
    "  int<lower=0> N;\n",
    "  vector[N] logx_meas;\n",
    "  real std;\n",
    "  \n",
    "  real<lower=0> alpha_min;\n",
    "  real<lower=0> alpha_max;\n",
    "  real lnA_min;\n",
    "  real lnA_max;\n",
    "  \n",
    "  real logx_min;\n",
    "}\n",
    "//transformed data {\n",
    "//  real logx_min;\n",
    "//  logx_min <- min(logx);\n",
    "//}\n",
    "parameters {\n",
    "  real<lower=lnA_min,upper=lnA_max> lnA;\n",
    "  real<lower=alpha_min,upper=alpha_max> alpha;\n",
    "  vector<lower=10,upper=18>[N] logx;\n",
    "//  real logx_min; \n",
    "}\n",
    "model {\n",
    "  logx ~ wpareto(logx_min, alpha, lnA);\n",
    "  for (i in 1:N)\n",
    "      logx[i] ~ normal(logx_meas[i],std)T[10,18];\n",
    "}\n",
    "\"\"\"\n",
    "\n",
    "hierarchical_model_variable_mmin=\"\"\"\n",
    "functions {\n",
    "  real wpareto_log(vector logx,real logx_min,real alpha,real lnA){\n",
    "    return sum(lnA + log(log(10))-alpha*logx*log(10)) - exp(lnA)*pow(10,-logx_min*alpha)/alpha;\n",
    "  }\n",
    "}\n",
    "data {\n",
    "  int<lower=0> N;\n",
    "  vector[N] logx_meas;\n",
    "  real std;\n",
    "  \n",
    "  real<lower=0> alpha_min;\n",
    "  real<lower=0> alpha_max;\n",
    "  real lnA_min;\n",
    "  real lnA_max;\n",
    "}\n",
    "parameters {\n",
    "  real<lower=lnA_min,upper=lnA_max> lnA;\n",
    "  real<lower=alpha_min,upper=alpha_max> alpha;\n",
    "  real logx_min; \n",
    "  vector<lower=logx_min>[N] logx;\n",
    "}\n",
    "model {\n",
    "  logx ~ wpareto(logx_min, alpha, lnA);\n",
    "  for (i in 1:N)\n",
    "      logx[i] ~ normal(logx_meas[i],std)T[logx_min,];\n",
    "}\n",
    "\"\"\"\n",
    "\n",
    "hierarchical_model_variable_mmin_pdf=\"\"\"\n",
    "data {\n",
    "  int<lower=0> N;\n",
    "  vector[N] logx_meas;\n",
    "  real std;\n",
    "  \n",
    "  real<lower=0> alpha_min;\n",
    "  real<lower=0> alpha_max;\n",
    "}\n",
    "parameters {\n",
    "  real<lower=alpha_min,upper=alpha_max> alpha;\n",
    "  real logx_min; \n",
    "  vector<lower=logx_min>[N] logx;\n",
    "}\n",
    "model {\n",
    "  for (i in 1:N){\n",
    "      pow(10,logx[i]) ~ pareto(pow(10,logx_min), alpha);\n",
    "      logx[i] ~ normal(logx_meas[i],std)T[logx_min,];\n",
    "  }\n",
    "}\n",
    "\"\"\""
   ]
  },
  {
   "cell_type": "code",
   "execution_count": 12,
   "metadata": {
    "collapsed": true
   },
   "outputs": [],
   "source": [
    "def get_sample_old(mmin,alpha,lnA, sd=0.3):\n",
    "    N = np.exp(lnA)*10**(-alpha*mmin)/alpha\n",
    "    \n",
    "    underlying = np.log10(rpareto(10**mmin,alpha,int(N)))\n",
    "    \n",
    "    observed = np.random.normal(underlying,sd)\n",
    "    \n",
    "    return observed,underlying"
   ]
  },
  {
   "cell_type": "code",
   "execution_count": 13,
   "metadata": {
    "collapsed": true
   },
   "outputs": [],
   "source": [
    "def run_hierarchical_on_complex(alpha,mmin,lnA,model=hierarchical_model_variable_mmin,sd=0.3,alpha_bounds=(0.1,4),old_style=False,**kwargs):\n",
    "    if not old_style:\n",
    "        logx,underlying = get_sample(mmin,alpha,lnA,sd)\n",
    "    else:\n",
    "        logx, underlying = get_sample_old(mmin,alpha,lnA,sd)\n",
    "        assert model==hierarchical_model_variable_mmin or model==hierarchical_model_variable_mmin_pdf\n",
    "        \n",
    "    lnA_bounds = (lnA-10,lnA+10)\n",
    "    \n",
    "    if model==hierarchical_model_fixed_mmin:\n",
    "        data = {\"N\":len(logx),\n",
    "                \"logx_meas\":logx,\n",
    "                \"std\":sd,\n",
    "                \"alpha_min\":alpha_bounds[0],\n",
    "                \"alpha_max\":alpha_bounds[1],\n",
    "                \"lnA_min\":lnA_bounds[0],\n",
    "                \"lnA_max\":lnA_bounds[1],\n",
    "                'logx_min':mmin}\n",
    "        pars = ['lnA','alpha']\n",
    "        \n",
    "    elif model==hierarchical_model_variable_mmin:\n",
    "        data = {\"N\":len(logx),\n",
    "                \"logx_meas\":logx,\n",
    "                \"std\":sd,\n",
    "                \"alpha_min\":alpha_bounds[0],\n",
    "                \"alpha_max\":alpha_bounds[1],\n",
    "                \"lnA_min\":lnA_bounds[0],\n",
    "                \"lnA_max\":lnA_bounds[1]}\n",
    "        pars = ['lnA','alpha','logx_min']\n",
    "    elif model==hierarchical_model_variable_mmin_pdf:\n",
    "        data = {\"N\":len(logx),\n",
    "                \"logx_meas\":logx,\n",
    "                \"std\":sd,\n",
    "                \"alpha_min\":alpha_bounds[0],\n",
    "                \"alpha_max\":alpha_bounds[1]}\n",
    "        pars = ['alpha','logx_min']\n",
    "        \n",
    "    model = _stan_cache(model_name=\"pareto_hierarchical\", model_code=model)\n",
    "    \n",
    "    \n",
    "    fit = model.sampling(data=data,pars=pars,**kwargs)\n",
    "    \n",
    "    out = np.mean(fit.get_posterior_mean(),axis=0)\n",
    "    \n",
    "    counts,bins,_ = plt.hist(logx,histtype='step',bins=40)\n",
    "    plt.hist(underlying,histtype='step',bins=bins)\n",
    "    logm = np.linspace(mmin,bins.max(),50)\n",
    "    plt.plot(logm,np.exp(lnA)*10**(-logm*alpha)*np.log(10)*(bins[1]-bins[0]),label=\"Underlying\")\n",
    "    plt.plot(logm,np.exp(out[0])*10**(-logm*out[1])*np.log(10)*(bins[1]-bins[0]),label=\"Fit\")\n",
    "    plt.legend(loc=0)\n",
    "    plt.yscale('log')\n",
    "\n",
    "\n",
    "    return fit, model, data, underlying"
   ]
  },
  {
   "cell_type": "code",
   "execution_count": 16,
   "metadata": {
    "collapsed": false
   },
   "outputs": [
    {
     "data": {
      "image/png": "[encoded data removed]",
      "text/plain": [
       "<matplotlib.figure.Figure at 0x7f670a401c10>"
      ]
     },
     "metadata": {},
     "output_type": "display_data"
    }
   ],
   "source": [
    "fit,model,data = run_hierarchical_on_complex(0.8,12.0,31.0,hierarchical_model_variable_mmin,0.4,iter=500,warmup=100,chains=4,n_jobs=4)"
   ]
  },
  {
   "cell_type": "code",
   "execution_count": 17,
   "metadata": {
    "collapsed": false
   },
   "outputs": [
    {
     "data": {
      "text/plain": [
       "Inference for Stan model: pareto_hierarchical_f463e51480396d35ad46274be0339770.\n",
       "4 chains, each with iter=500; warmup=100; thin=1; \n",
       "post-warmup draws per chain=400, total post-warmup draws=1600.\n",
       "\n",
       "           mean se_mean     sd   2.5%    25%    50%    75%  97.5%  n_eff   Rhat\n",
       "lnA        41.0  8.8e-4 3.3e-3  40.99   41.0   41.0   41.0   41.0   14.0   1.11\n",
       "alpha      0.92  2.3e-3 9.3e-3   0.91   0.92   0.92   0.93   0.95   17.0   1.25\n",
       "logx_min   14.9    0.04   0.15  14.42  14.88  14.94  14.98  15.05   17.0   1.26\n",
       "lp__      8.9e4   53.42 220.27  8.9e4  8.9e4  8.9e4  8.9e4  9.0e4   17.0   1.24\n",
       "\n",
       "Samples were drawn using NUTS(diag_e) at Mon May 16 13:19:21 2016.\n",
       "For each parameter, n_eff is a crude measure of effective sample size,\n",
       "and Rhat is the potential scale reduction factor on split chains (at \n",
       "convergence, Rhat=1)."
      ]
     },
     "execution_count": 17,
     "metadata": {},
     "output_type": "execute_result"
    }
   ],
   "source": [
    "fit"
   ]
  },
  {
   "cell_type": "code",
   "execution_count": 22,
   "metadata": {
    "collapsed": false
   },
   "outputs": [
    {
     "name": "stdout",
     "output_type": "stream",
     "text": [
      "Using cached StanModel\n"
     ]
    },
    {
     "data": {
      "image/png": "[encoded data removed]",
      "text/plain": [
       "<matplotlib.figure.Figure at 0x7f673505fd10>"
      ]
     },
     "metadata": {},
     "output_type": "display_data"
    }
   ],
   "source": [
    "fit_old,model_old,data_old = run_hierarchical_on_complex(0.8,12.0,31.0,hierarchical_model_variable_mmin,0.4,iter=500,warmup=100,chains=4,n_jobs=4,old_style=True)"
   ]
  },
  {
   "cell_type": "code",
   "execution_count": 24,
   "metadata": {
    "collapsed": false
   },
   "outputs": [],
   "source": [
    "mtrue = fit_old.get_posterior_mean()[3:-1,0]"
   ]
  },
  {
   "cell_type": "code",
   "execution_count": 25,
   "metadata": {
    "collapsed": false
   },
   "outputs": [
    {
     "data": {
      "image/png": "[encoded data removed]",
      "text/plain": [
       "<matplotlib.figure.Figure at 0x7f67346c71d0>"
      ]
     },
     "metadata": {},
     "output_type": "display_data"
    }
   ],
   "source": [
    "plt.hist(mtrue)\n",
    "plt.yscale('log')"
   ]
  },
  {
   "cell_type": "code",
   "execution_count": null,
   "metadata": {
    "collapsed": true
   },
   "outputs": [],
   "source": [
    "print fit_old.log_prob(fit_old.unconstrain_pars({\"lnA\":fit_old.get_posterior_mean()[0,0],\n",
    "                                           \"alpha\":fit_old.get_posterior_mean()[1,0],\n",
    "                                           \"logx_min\":fit_old.get_posterior_mean()[2,0],\n",
    "                                           \"logx\":fit_old.get_posterior_mean()[3:-1,0]}))\n",
    "\n",
    "print fit_old.log_prob(fit_old.unconstrain_pars({\"lnA\":31.0,\n",
    "                                           \"alpha\":0.8,\n",
    "                                           \"logx_min\":12.0,\n",
    "                                           \"logx\":data_old['logx_meas']}))"
   ]
  },
  {
   "cell_type": "code",
   "execution_count": 21,
   "metadata": {
    "collapsed": false
   },
   "outputs": [
    {
     "name": "stderr",
     "output_type": "stream",
     "text": [
      "/home/steven/anaconda2/lib/python2.7/site-packages/ipykernel/__main__.py:49: RuntimeWarning: overflow encountered in power\n",
      "/home/steven/anaconda2/lib/python2.7/site-packages/matplotlib/ticker.py:1593: RuntimeWarning: overflow encountered in power\n",
      "  ticklocs = b ** decades\n"
     ]
    },
    {
     "data": {
      "image/png": "[encoded data removed]",
      "text/plain": [
       "<matplotlib.figure.Figure at 0x7fd0635ed950>"
      ]
     },
     "metadata": {},
     "output_type": "display_data"
    }
   ],
   "source": [
    "fit_pdf,model_pdf,data_pdf, underlying_pdf = run_hierarchical_on_complex(0.8,12.0,31.0,hierarchical_model_variable_mmin_pdf,0.4,iter=500,warmup=100,chains=4,n_jobs=4,old_style=True)"
   ]
  },
  {
   "cell_type": "code",
   "execution_count": 22,
   "metadata": {
    "collapsed": false
   },
   "outputs": [
    {
     "data": {
      "text/plain": [
       "Inference for Stan model: pareto_hierarchical_706b4603f9557532457ec9da56f82bc8.\n",
       "4 chains, each with iter=500; warmup=100; thin=1; \n",
       "post-warmup draws per chain=400, total post-warmup draws=1600.\n",
       "\n",
       "           mean se_mean     sd   2.5%    25%    50%    75%  97.5%  n_eff   Rhat\n",
       "alpha      3.99  3.7e-4 8.6e-3   3.97   3.99   3.99    4.0    4.0  534.0    1.0\n",
       "logx_min  12.44  2.8e-4 6.4e-3  12.43  12.44  12.44  12.44  12.45  522.0    1.0\n",
       "lp__     -2.9e5    4.41  76.64 -2.9e5 -2.9e5 -2.9e5 -2.9e5 -2.9e5  302.0   1.01\n",
       "\n",
       "Samples were drawn using NUTS(diag_e) at Mon May 16 17:32:27 2016.\n",
       "For each parameter, n_eff is a crude measure of effective sample size,\n",
       "and Rhat is the potential scale reduction factor on split chains (at \n",
       "convergence, Rhat=1)."
      ]
     },
     "execution_count": 22,
     "metadata": {},
     "output_type": "execute_result"
    }
   ],
   "source": [
    "fit_pdf"
   ]
  },
  {
   "cell_type": "code",
   "execution_count": 24,
   "metadata": {
    "collapsed": false
   },
   "outputs": [
    {
     "data": {
      "image/png": "[encoded data removed]",
      "text/plain": [
       "<matplotlib.figure.Figure at 0x7fd0636d0110>"
      ]
     },
     "metadata": {},
     "output_type": "display_data"
    }
   ],
   "source": [
    "plt.hist(fit_pdf.get_posterior_mean()[3:-1,0])\n",
    "plt.yscale('log')"
   ]
  },
  {
   "cell_type": "code",
   "execution_count": null,
   "metadata": {
    "collapsed": true
   },
   "outputs": [],
   "source": []
  }
 ],
 "metadata": {
  "hide_input": true,
  "kernelspec": {
   "display_name": "Python 2",
   "language": "python",
   "name": "python2"
  },
  "language_info": {
   "codemirror_mode": {
    "name": "ipython",
    "version": 2
   },
   "file_extension": ".py",
   "mimetype": "text/x-python",
   "name": "python",
   "nbconvert_exporter": "python",
   "pygments_lexer": "ipython2",
   "version": "2.7.11"
  },
  "latex_envs": {
   "bibliofile": "biblio.bib",
   "cite_by": "apalike",
   "current_citInitial": 1,
   "eqLabelWithNumbers": true,
   "eqNumInitial": 0
  }
 },
 "nbformat": 4,
 "nbformat_minor": 0
}
